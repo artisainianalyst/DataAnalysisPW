{
 "cells": [
  {
   "cell_type": "code",
   "execution_count": null,
   "id": "6c804d7a-ef7c-456c-a83a-7542a5b1d9e0",
   "metadata": {},
   "outputs": [],
   "source": [
    "Q1. Write a Python function that takes a list of numbers as input and returns the sum of all even numbers in \n",
    "the list?"
   ]
  },
  {
   "cell_type": "markdown",
   "id": "f96a6945-c41c-415b-b386-8942c3418b3d",
   "metadata": {},
   "source": [
    "this is the answer:>>\n",
    "  * Function:\n",
    "    A function is a standalone block of code that is defined independently and can be called by its name from anywhere in the program. Functions operate on data passed to them as arguments and can optionally return a value. They are not tied to any specific object or class and are used for general-purpose tasks.\n",
    "\n",
    "    def greet(name):\n",
    "    return f\"Hello, {name}!\"\n",
    "\n",
    "message = greet(\"Alice\")\n",
    "print(message)  # Output: Hello, Alice!\n",
    "    \n",
    "  * Method:\n",
    "    A method is a function that is defined inside a class and is associated with objects of that class. Methods are called on an object using dot notation (e.g., object.method()) and can access and modify the object's attributes (data). They are an integral part of object-oriented programming, enabling objects to exhibit behaviors and interact with their own state.\n",
    "    class Dog:\n",
    "    def __init__(self, name):\n",
    "        self.name = name\n",
    "\n",
    "    def bark(self):\n",
    "        return f\"{self.name} says Woof!\"\n",
    "\n",
    "my_dog = Dog(\"Buddy\")\n",
    "print(my_dog.bark())  # Output: Buddy says Woof!\n",
    "    "
   ]
  },
  {
   "cell_type": "code",
   "execution_count": null,
   "id": "b5438055-d265-4e6a-9c42-2643b469f214",
   "metadata": {},
   "outputs": [],
   "source": [
    "Q2. Explain the concept of function arguments and parameters in Python?"
   ]
  },
  {
   "cell_type": "markdown",
   "id": "31daab54-c1e3-4139-af71-e45c8175683e",
   "metadata": {},
   "source": [
    "This is the answer:>>\n",
    "   * In Python, parameters and arguments are fundamental concepts when working with functions, though their roles are distinct.\n",
    "   * Parameters:\n",
    "    1.Parameters are the placeholders defined within the parentheses in a function's definition. They act as local variables within the function, expecting to receive values when the function is called.\n",
    "    2.Parameters specify the type and number of inputs a function expects. \n",
    "    3. They are part of the function's signature and exist only within the scope of that function.\n",
    "    * Example of Parameters:\n",
    "Python\n",
    "\n",
    "def greet(name, age):  # 'name' and 'age' are parameters\n",
    "    print(f\"Hello, {name}! You are {age} years old.\")\n",
    "    * Arguments:\n",
    "   1. Arguments are the actual values or data passed to a function when it is called. These values are assigned to the corresponding parameters in the function's definition.\n",
    "   2. Arguments provide the specific data that the function will operate on during its execution.\n",
    "   3. Arguments can be literal values, variables, or expressions. \n",
    "   *Example of Arguments:\n",
    "Python\n",
    "\n",
    "greet(\"Alice\", 30)  # \"Alice\" and 30 are arguments\n",
    "In this example, when greet(\"Alice\", 30) is called:\n",
    "The argument \"Alice\" is passed to the name parameter.\n",
    "The argument 30 is passed to the age parameter."
   ]
  },
  {
   "cell_type": "code",
   "execution_count": null,
   "id": "2470273c-de2f-47d3-b9e2-0a57a3cc00d0",
   "metadata": {},
   "outputs": [],
   "source": [
    "Q3. What are the different ways to define and call a function in Python?"
   ]
  },
  {
   "cell_type": "code",
   "execution_count": null,
   "id": "f53ed352-4c07-4eb2-bc61-83ac6a128695",
   "metadata": {},
   "outputs": [],
   "source": [
    "This is the answer:>>\n",
    "   * Defining a Function in Python\n",
    "Functions in Python are primarily defined using the def keyword.\n",
    "Python\n",
    "\n",
    "def function_name(parameters):\n",
    "    \"\"\"Docstring: Optional, describes what the function does.\"\"\"\n",
    "    # Function body - code to be executed\n",
    "    # ...\n",
    "    return value  # Optional, returns a value from the function\n",
    "    * def: Keyword that initiates the function definition.\n",
    "    *function_name: A unique identifier for the function.\n",
    "    * parameters: Optional input values the function accepts, enclosed in parentheses and separated by commas.\n",
    "    *:: A colon marks the end of the function header.\n",
    "    * Indented code block: The lines of code that constitute the function's body must be indented.\n",
    "    * return: Optional keyword used to send a value back to the caller.\n",
    "  >> Calling a Function in Python:\n",
    "Once defined, a function can be called (executed) by using its name followed by parentheses. Calling a function without arguments.\n",
    "Python\n",
    "\n",
    "    def greet():\n",
    "        print(\"Hello, world!\")\n",
    "\n",
    "    greet()  # Calls the greet function\n",
    "Calling a function with positional arguments.\n",
    "Python\n",
    "\n",
    "    def introduce(name, age):\n",
    "        print(f\"My name is {name} and I am {age} years old.\")\n",
    "\n",
    "    introduce(\"Alice\", 30)  # Arguments passed based on their position\n",
    "Calling a function with keyword arguments.\n",
    "Python\n",
    "\n",
    "    def describe_car(make, model, year):\n",
    "        print(f\"This is a {year} {make} {model}.\")\n",
    "\n",
    "    describe_car(model=\"Civic\", make=\"Honda\", year=2022) # Arguments passed by name\n",
    "Calling a function with a mix of positional and keyword arguments:\n",
    "Keyword arguments must always follow positional arguments.\n",
    "Python\n",
    "\n",
    "    def calculate_sum(a, b, c):\n",
    "        return a + b + c\n",
    "\n",
    "    result = calculate_sum(10, c=5, b=20) # 10 is positional, c and b are keyword\n",
    "    print(result) # Output: 35\n",
    "Calling a function and capturing its return value:\n",
    "Python\n",
    "\n",
    "    def multiply(x, y):\n",
    "        return x * y\n",
    "\n",
    "    product = multiply(5, 4)\n",
    "    print(product) # Output: 20"
   ]
  },
  {
   "cell_type": "code",
   "execution_count": null,
   "id": "8e9eb29b-1a0a-48b8-9887-6881a773fd3e",
   "metadata": {},
   "outputs": [],
   "source": [
    "Q4. What is the purpose of the `return` statement in a Python function?"
   ]
  },
  {
   "cell_type": "markdown",
   "id": "bad70178-f139-4529-b0bf-975e38c44aa7",
   "metadata": {},
   "source": [
    "This is the answer>>\n",
    "  *The return statement in a Python function serves two primary purposes:\n",
    "   1. Exiting the Function:\n",
    "   When a return statement is encountered within a function, the function's execution immediately terminates. Any code following the return statement within that function will not be executed. Control is then passed back to the point in the code where the function was called.\n",
    "  2. Returning a Value: The return statement can optionally be followed by an expression or a value. This value is then \"returned\" to the caller of the function. This allows the function to produce a result that can be used by other parts of the program. If no value or expression is specified after return, or if the function reaches its end without encountering a return statement, it implicitly returns None. \n",
    "   * In essence, the return statement enables functions to:\n",
    " 1. Signal the completion of their task.\n",
    " 2. Provide a computed result or a status indicator back to the calling code, facilitating data flow and program logic."
   ]
  },
  {
   "cell_type": "code",
   "execution_count": null,
   "id": "1761e1c2-0dd9-4523-b987-06b2799ce5ff",
   "metadata": {},
   "outputs": [],
   "source": [
    "Q5. What are iterators in Python and how do they differ from iterables?"
   ]
  },
  {
   "cell_type": "markdown",
   "id": "2cc40060-3c63-4068-a9bb-97b7bfd052e0",
   "metadata": {},
   "source": [
    "This is the answer>>\n",
    "  * In Python, iterators and iterables are fundamental concepts for working with sequences of data.\n",
    "  1. Iterables:\n",
    "   An iterable is an object that can be iterated over, meaning you can loop through its elements. Common examples of iterables include lists, tuples, strings, and dictionaries. An object is considered an iterable if it implements the __iter__() method, which returns an iterator. \n",
    "  2. Iterators:\n",
    "  An iterator is an object that represents a stream of data. It is used to traverse through the elements of an iterable one at a time. An iterator must implement two methods: \n",
    "  1. __iter__(): This method returns the iterator object itself.\n",
    "  2. __next__(): This method returns the next item from the sequence. If there are no more items, it raises a StopIteration exception. \n",
    "  * Differences between Iterables and Iterators:\n",
    "    \n",
    "  1. Purpose: An iterable is a container of elements that can be iterated over, while an iterator is an object that performs the iteration over an  iterable.\n",
    "  2. Methods: Iterables primarily implement __iter__(), while iterators implement both __iter__() and __next__().\n",
    "  3. State: Iterators maintain an internal state to keep track of the current position during iteration, allowing them to return the \"next\" element. Iterables do not inherently maintain this iteration state.\n",
    "  4. Relationship: Every iterator is also an iterable (because it implements __iter__()), but not every iterable is an iterator (as it may not implement __next__()). You can obtain an iterator from an iterable using the built-in iter() function.\n",
    "In essence, an iterable is the \"what\" (the collection of data), and an iterator is the \"how\" (the mechanism for accessing that data sequentially)."
   ]
  },
  {
   "cell_type": "code",
   "execution_count": null,
   "id": "3faed28d-5906-4238-9cbc-bb06d2f9a125",
   "metadata": {},
   "outputs": [],
   "source": [
    "Q6.Explain the concept of generators in Python and how they are defined?"
   ]
  },
  {
   "cell_type": "markdown",
   "id": "5ca282f7-0655-41e7-8ca5-feec5cd53261",
   "metadata": {},
   "source": [
    "This is the answer>>\n",
    "  * In Python, generators are a powerful and memory-efficient way to create iterators. Unlike regular functions that compute and return all values at once, generators produce values one at a time, \"on the fly,\" as they are requested. This \"lazy evaluation\" makes them ideal for handling large datasets or infinite sequences where storing all values in memory simultaneously would be impractical or impossible.\n",
    "  * How Generators are Defined:\n",
    "  1. Generators are defined using a special type of function called a generator function, which is characterized by the presence of the yield keyword instead of return. Generator Functions with yield.\n",
    "  2. A generator function looks like a normal function defined with def, but instead of using return to send back a value and terminate, it uses yield. When yield is encountered, the function pauses its execution, saves its state, and returns the yielded value. When the generator is iterated over again (e.g., in a for loop or by calling next()), it resumes execution from where it left off.\n",
    "Python\n",
    "\n",
    "    def my_generator():\n",
    "        yield 1\n",
    "        yield 2\n",
    "        yield 3\n",
    "\n",
    "    # Using the generator\n",
    "    gen = my_generator()\n",
    "    print(next(gen)) # Output: 1\n",
    "    print(next(gen)) # Output: 2\n",
    "    for item in gen:\n",
    "        print(item) # Output: 3\n",
    "Generator Expressions.\n",
    "Similar to list comprehensions, Python also provides a concise way to create generators using generator expressions. These are enclosed in parentheses () and follow a similar syntax to list comprehensions, but they don't create a list in memory; instead, they create a generator object.\n",
    "Python\n",
    "\n",
    "    # Generator expression\n",
    "    gen_exp = (x * x for x in range(5))\n",
    "\n",
    "    # Using the generator expression\n",
    "    for num in gen_exp:\n",
    "        print(num) # Output: 0, 1, 4, 9, 16"
   ]
  },
  {
   "cell_type": "code",
   "execution_count": null,
   "id": "cbf85e70-2b0f-4252-bef8-f9a0745231cd",
   "metadata": {},
   "outputs": [],
   "source": [
    "Q.7  What are the advantages of using generators over regular functions?"
   ]
  },
  {
   "cell_type": "markdown",
   "id": "070040ea-690e-46c3-afc4-109a774f38cf",
   "metadata": {},
   "source": [
    "This is the answer>>\n",
    "   * The primary advantages of using generators over regular functions in Python are centered around memory efficiency and the ability to handle large or infinite sequences.\n",
    "  1. Memory Efficiency:\n",
    "Lazy Evaluation: Generators employ \"lazy evaluation,\" meaning they produce values one by one only when requested. In contrast, a regular function that returns a list or other collection will construct the entire collection in memory before returning it. This makes generators ideal for processing large datasets that might not fit entirely into memory.\n",
    "Reduced Memory Footprint: By yielding values iteratively instead of storing them all, generators significantly reduce the memory footprint, particularly when dealing with extensive data streams or infinite sequences.\n",
    "  2. Handling Large and Infinite Sequences:\n",
    "Processing Large Datasets: Generators can efficiently process datasets that are too large to load into memory entirely, such as lines in a massive file or database records.\n",
    "Infinite Sequences: Generators can represent infinite sequences, as they generate values on demand and do not require the entire sequence to be materialized in memory. This is not possible with regular functions that return a complete sequence.\n",
    "  3. Simpler Implementation of Iterators:\n",
    "Automatic Iterator Protocol: When you use the yield keyword within a function, Python automatically handles the implementation of the iterator protocol (__iter__() and __next__()), making it simpler to create custom iterators compared to writing a full-fledged class.\n",
    "  4. Pipelining Operations:\n",
    "Chaining Generators: Multiple generators can be chained together to create processing pipelines, where the output of one generator serves as the input for the next. This allows for efficient, memory-friendly data transformation.\n",
    "Example:\n",
    "Consider a function that reads a very large file line by line:\n",
    "Python\n",
    "\n",
    "# Using a regular function (less memory efficient for large files)\n",
    "def read_large_file_list(filename):\n",
    "    with open(filename, 'r') as f:\n",
    "        return f.readlines()\n",
    "\n",
    "# Using a generator (memory efficient)\n",
    "def read_large_file_generator(filename):\n",
    "    with open(filename, 'r') as f:\n",
    "        for line in f:\n",
    "            yield line"
   ]
  },
  {
   "cell_type": "code",
   "execution_count": null,
   "id": "5341cb75-3afe-4996-b94f-93272898a903",
   "metadata": {},
   "outputs": [],
   "source": [
    "Q8.  What is a lambda function in Python and when is it typically used?"
   ]
  },
  {
   "cell_type": "markdown",
   "id": "d8f682f3-2070-44fe-9ca1-02f79171d0dc",
   "metadata": {},
   "source": [
    "This is the answer>>\n",
    "   * A lambda function in Python is a small, anonymous function defined using the lambda keyword. Unlike regular functions defined with def, lambda functions are anonymous (they don't require a name) and are restricted to a single expression. They can take any number of arguments. \n",
    "  * The syntax for a lambda function is:\n",
    "   lambda arguments: expression\n",
    "  * When Lambda Functions are Typically Used:>\n",
    "Lambda functions are particularly useful in scenarios where a small, single-expression function is needed for a short period and defining a full def function would be considered overkill. They are commonly employed with higher-order functions, which are functions that take other functions as arguments. \n",
    "  * Here are some typical use cases:\n",
    "  1. With map(): To apply a transformation to each item in an iterable.\n",
    "Python\n",
    "\n",
    "    numbers = [1, 2, 3, 4]\n",
    "    squared_numbers = list(map(lambda x: x * x, numbers))\n",
    "    # squared_numbers will be [1, 4, 9, 16]\n",
    "  2. With filter(): To select items from an iterable based on a specific condition.\n",
    "Python\n",
    "\n",
    "    numbers = [1, 2, 3, 4, 5, 6]\n",
    "    even_numbers = list(filter(lambda x: x % 2 == 0, numbers))\n",
    "    # even_numbers will be [2, 4, 6]\n",
    "  3. With sorted() or list.sort(): To define a custom sorting key.\n",
    "Python\n",
    "\n",
    "    data = [('apple', 5), ('banana', 2), ('cherry', 8)]\n",
    "    sorted_data = sorted(data, key=lambda item: item[1])\n",
    "    # sorted_data will be [('banana', 2), ('apple', 5), ('cherry', 8)]\n",
    "  * As arguments to other functions:\n",
    "    When a function requires a simple callback or a quick, inline function for a specific task.\n",
    " In essence, lambda functions are chosen for their conciseness and ability to create quick, throwaway functions for straightforward operations, especially within functional programming constructs. For more complex logic or reusable code blocks, regular def functions are preferred for their readability and maintainability."
   ]
  },
  {
   "cell_type": "code",
   "execution_count": null,
   "id": "fb032f24-316e-4317-9c4e-ef12b69ecb99",
   "metadata": {},
   "outputs": [],
   "source": [
    "Q9. Explain the purpose and usage of the `map()` function in Python?"
   ]
  },
  {
   "cell_type": "markdown",
   "id": "bbd53fa1-41ab-48f8-bff0-9811c6c7fee7",
   "metadata": {},
   "source": [
    "This is the answer>>\n",
    "   *The map() function in Python serves the purpose of applying a specified function to each item in an iterable, such as a list, tuple, or set, and returning a new iterable (a map object) containing the results. Its primary usage lies in transforming data within collections efficiently and often more concisely than traditional loops.\n",
    "  * Purpose:\n",
    "  1. Element-wise Transformation:\n",
    "     map() allows for applying a function to every element of an iterable without needing to write explicit for loops. This promotes a more functional programming style.\n",
    "  2. Data Processing: It is commonly used for tasks like converting data types, performing mathematical operations on numerical collections, or applying string manipulations to lists of strings.\n",
    "  3. Code Readability and Conciseness: For simple transformations, map() can make code more readable and compact compared to writing a loop that iterates and appends results to a new list.\n",
    "  * Usage:\n",
    "The map() function takes at least two arguments: a function and one or more iterables. \n",
    "Python\n",
    "\n",
    "  map(function, iterable, ...)\n",
    "  1. function: This is the function that will be applied to each item of the iterable(s). It can be a predefined function, a user-defined function, or an anonymous function created using lambda.\n",
    "  2. iterable: This is the sequence (e.g., list, tuple, string) whose elements will be passed to the function. Multiple iterables can be provided if the function expects multiple arguments.\n",
    "Example:\n",
    "Python\n",
    "\n",
    "# Applying a function to a single list\n",
    "numbers = [1, 2, 3, 4, 5]\n",
    "squared_numbers = list(map(lambda x: x**2, numbers))\n",
    "print(squared_numbers)\n",
    "# Output: [1, 4, 9, 16, 25]\n",
    "\n",
    "# Applying a function to multiple lists\n",
    "list1 = [1, 2, 3]\n",
    "list2 = [4, 5, 6]\n",
    "sums = list(map(lambda x, y: x + y, list1, list2))\n",
    "print(sums)\n",
    "# Output: [5, 7, 9]\n",
    "It is important to note that map() returns an iterator (a map object), so to view the results directly, it is often converted to a list, tuple, or other desired collection type."
   ]
  },
  {
   "cell_type": "code",
   "execution_count": null,
   "id": "365230bf-dac0-406e-80d1-6e166f0292a2",
   "metadata": {},
   "outputs": [],
   "source": [
    "Q10. What is the difference between `map()`, `reduce()`, and `filter()` functions in Python?"
   ]
  },
  {
   "cell_type": "code",
   "execution_count": null,
   "id": "512746de-d104-4d36-80f2-d9caf841d914",
   "metadata": {},
   "outputs": [],
   "source": [
    "This is the answer>>\n",
    "   * he Python functions map, filter, and reduce are higher-order functions used for processing iterables, each with a distinct purpose:\n",
    "  1. map(function, iterable):\n",
    "  > Purpose: Applies a given function to each item in an iterable and returns a new iterable (a map object) containing the results. It transforms\n",
    "elements.\n",
    "  > Output: An iterable of the same length as the input, where each element is the result of applying the function to the corresponding input element.\n",
    "Python\n",
    "\n",
    "    numbers = [1, 2, 3, 4]\n",
    "    squared_numbers = list(map(lambda x: x * x, numbers))\n",
    "    print(squared_numbers) # Output: [1, 4, 9, 16]\n",
    "  2. filter(function, iterable):\n",
    "  > Purpose: Constructs an iterator from elements of an iterable for which a given function returns True. It selects elements based on a condition.\n",
    "  >Output: An iterable containing only the elements from the input iterable that satisfied the condition (i.e., for which the function returned True).\n",
    "The length of the output can be less than or equal to the input.\n",
    "Python\n",
    "\n",
    "    numbers = [1, 2, 3, 4, 5, 6]\n",
    "    even_numbers = list(filter(lambda x: x % 2 == 0, numbers))\n",
    "    print(even_numbers) # Output: [2, 4, 6]\n",
    "  3. functools.reduce(function, iterable[, initializer]):\n",
    "  > Purpose: Applies a function of two arguments cumulatively to the items of an iterable, from left to right, so as to reduce the iterable to a single value. \n",
    "This function needs to be imported from the functools module.\n",
    "  > Output: A single, aggregated value.\n",
    "Python\n",
    "\n",
    "    from functools import reduce\n",
    "    numbers = [1, 2, 3, 4]\n",
    "    sum_of_numbers = reduce(lambda x, y: x + y, numbers)\n",
    "    print(sum_of_numbers) # Output: 10\n",
    "In summary: map transforms each element, filter selects elements based on a condition, and reduce aggregates elements into a single value."
   ]
  },
  {
   "cell_type": "code",
   "execution_count": null,
   "id": "2a639991-cb19-4850-b734-c00f826ec0fe",
   "metadata": {},
   "outputs": [],
   "source": [
    "Q11. list:[47,11,42,13]; \n",
    " Using pen & Paper write the internal mechanism for sum operation using  reduce function on this given \n",
    "(Attach paper image for this answer) in doc or colab notebook"
   ]
  },
  {
   "cell_type": "code",
   "execution_count": null,
   "id": "9ca90080-3941-4587-b503-aeab4649f8ad",
   "metadata": {},
   "outputs": [],
   "source": [
    "operation on this list:\n",
    "\n",
    "from functools import reduce\n",
    "\n",
    "numbers = [47, 11, 42, 13]\n",
    "sum_result = reduce(lambda x, y: x + y, numbers)\n",
    "\n",
    "✅ Internal Mechanism Step-by-Step\n",
    "\n",
    "Let’s simulate what’s happening under the hood:\n",
    "\n",
    "Step 0: Input List\n",
    "[47, 11, 42, 13]\n",
    "\n",
    "\n",
    "The reduce() function will:\n",
    "\n",
    "Take the first two elements and apply the function.\n",
    "\n",
    "Then take that result and apply the function with the next element.\n",
    "\n",
    "And so on...\n",
    "\n",
    "Step 1: First Application\n",
    "x = 47\n",
    "y = 11\n",
    "result = x + y = 58\n",
    "\n",
    "Step 2: Second Application\n",
    "\n",
    "Now use the result (58) and the next item in the list:\n",
    "\n",
    "x = 58\n",
    "y = 42\n",
    "result = x + y = 100\n",
    "\n",
    "Step 3: Third Application\n",
    "\n",
    "Use that result (100) and the next item:\n",
    "\n",
    "x = 100\n",
    "y = 13\n",
    "result = x + y = 113\n",
    "\n",
    "🧠 So internally, this happens:\n",
    "reduce(lambda x, y: x + y, [47, 11, 42, 13])\n",
    "\n",
    "# Step-by-step:\n",
    "# Step 1: (47 + 11) = 58\n",
    "# Step 2: (58 + 42) = 100\n",
    "# Step 3: (100 + 13) = 113\n",
    "\n",
    "Final Result:\n",
    "sum_result = 113"
   ]
  },
  {
   "cell_type": "code",
   "execution_count": null,
   "id": "39a7eacf-44c9-4bed-b420-f1b9375323f6",
   "metadata": {},
   "outputs": [],
   "source": [
    "Q1. Write a Python function that takes a list of numbers as input and returns the sum of all even numbers in \n",
    "the list?"
   ]
  },
  {
   "cell_type": "code",
   "execution_count": 6,
   "id": "b930422a-45fb-489a-9282-7c9116067e91",
   "metadata": {},
   "outputs": [
    {
     "name": "stdout",
     "output_type": "stream",
     "text": [
      "12\n"
     ]
    }
   ],
   "source": [
    "def sum_of_evens(numbers):\n",
    "    \"\"\"Return the sum of all even numbers in the giben list.\"\"\"\n",
    "    return sum(num for num in numbers if num % 2 == 0)\n",
    "print(sum_of_evens([1, 2, 3, 4, 5, 6]))"
   ]
  },
  {
   "cell_type": "code",
   "execution_count": null,
   "id": "dc5fafa7-72c4-4d28-9771-485bb99d6618",
   "metadata": {},
   "outputs": [],
   "source": [
    "Q2. Create a Python function that accepts a string and returns the reverse of that string?"
   ]
  },
  {
   "cell_type": "code",
   "execution_count": 8,
   "id": "8a06718c-589e-4117-9ccc-4a8848f59ce2",
   "metadata": {},
   "outputs": [
    {
     "name": "stdout",
     "output_type": "stream",
     "text": [
      "nohtyp\n"
     ]
    }
   ],
   "source": [
    "def reverse_string(text: str) -> str:\n",
    "    return text[:: -1]\n",
    "print(reverse_string(\"python\"))"
   ]
  },
  {
   "cell_type": "code",
   "execution_count": null,
   "id": "ac6dc665-cd99-42bb-8c2b-386e04709250",
   "metadata": {},
   "outputs": [],
   "source": [
    "Q3. Implement a Python function that takes a list of integers and returns a new list containing the squares of \n",
    "each number?"
   ]
  },
  {
   "cell_type": "code",
   "execution_count": 40,
   "id": "631ae85b-bbe1-4a95-b649-bc12a4e3a56a",
   "metadata": {},
   "outputs": [
    {
     "name": "stdout",
     "output_type": "stream",
     "text": [
      "[1, 4, 9, 16, 25]\n"
     ]
    }
   ],
   "source": [
    "def square_numbers(numbers):\n",
    "    return [num ** 2 for num in numbers]\n",
    "print(square_numbers([1,2,3,4,5]))"
   ]
  },
  {
   "cell_type": "code",
   "execution_count": null,
   "id": "5363de74-5899-4c50-a38c-62f4c0f2e547",
   "metadata": {},
   "outputs": [],
   "source": [
    "Q4. Write a Python function that checks if a given number is prime or not from 1 to 200?"
   ]
  },
  {
   "cell_type": "code",
   "execution_count": 75,
   "id": "2373e058-9cdc-440a-bb09-152dc98981b2",
   "metadata": {},
   "outputs": [
    {
     "name": "stdout",
     "output_type": "stream",
     "text": [
      "1 is not prime\n",
      "2 is prime\n",
      "3 is prime\n",
      "4 is not prime\n",
      "5 is prime\n",
      "6 is not prime\n",
      "7 is prime\n",
      "8 is not prime\n",
      "9 is not prime\n",
      "10 is not prime\n",
      "11 is prime\n",
      "12 is not prime\n",
      "13 is prime\n",
      "14 is not prime\n",
      "15 is not prime\n",
      "16 is not prime\n",
      "17 is prime\n",
      "18 is not prime\n",
      "19 is prime\n",
      "20 is not prime\n",
      "21 is not prime\n",
      "22 is not prime\n",
      "23 is prime\n",
      "24 is not prime\n",
      "25 is not prime\n",
      "26 is not prime\n",
      "27 is not prime\n",
      "28 is not prime\n",
      "29 is prime\n",
      "30 is not prime\n",
      "31 is prime\n",
      "32 is not prime\n",
      "33 is not prime\n",
      "34 is not prime\n",
      "35 is not prime\n",
      "36 is not prime\n",
      "37 is prime\n",
      "38 is not prime\n",
      "39 is not prime\n",
      "40 is not prime\n",
      "41 is prime\n",
      "42 is not prime\n",
      "43 is prime\n",
      "44 is not prime\n",
      "45 is not prime\n",
      "46 is not prime\n",
      "47 is prime\n",
      "48 is not prime\n",
      "49 is not prime\n",
      "50 is not prime\n",
      "51 is not prime\n",
      "52 is not prime\n",
      "53 is prime\n",
      "54 is not prime\n",
      "55 is not prime\n",
      "56 is not prime\n",
      "57 is not prime\n",
      "58 is not prime\n",
      "59 is prime\n",
      "60 is not prime\n",
      "61 is prime\n",
      "62 is not prime\n",
      "63 is not prime\n",
      "64 is not prime\n",
      "65 is not prime\n",
      "66 is not prime\n",
      "67 is prime\n",
      "68 is not prime\n",
      "69 is not prime\n",
      "70 is not prime\n",
      "71 is prime\n",
      "72 is not prime\n",
      "73 is prime\n",
      "74 is not prime\n",
      "75 is not prime\n",
      "76 is not prime\n",
      "77 is not prime\n",
      "78 is not prime\n",
      "79 is prime\n",
      "80 is not prime\n",
      "81 is not prime\n",
      "82 is not prime\n",
      "83 is prime\n",
      "84 is not prime\n",
      "85 is not prime\n",
      "86 is not prime\n",
      "87 is not prime\n",
      "88 is not prime\n",
      "89 is prime\n",
      "90 is not prime\n",
      "91 is not prime\n",
      "92 is not prime\n",
      "93 is not prime\n",
      "94 is not prime\n",
      "95 is not prime\n",
      "96 is not prime\n",
      "97 is prime\n",
      "98 is not prime\n",
      "99 is not prime\n",
      "100 is not prime\n",
      "101 is prime\n",
      "102 is not prime\n",
      "103 is prime\n",
      "104 is not prime\n",
      "105 is not prime\n",
      "106 is not prime\n",
      "107 is prime\n",
      "108 is not prime\n",
      "109 is prime\n",
      "110 is not prime\n",
      "111 is not prime\n",
      "112 is not prime\n",
      "113 is prime\n",
      "114 is not prime\n",
      "115 is not prime\n",
      "116 is not prime\n",
      "117 is not prime\n",
      "118 is not prime\n",
      "119 is not prime\n",
      "120 is not prime\n",
      "121 is not prime\n",
      "122 is not prime\n",
      "123 is not prime\n",
      "124 is not prime\n",
      "125 is not prime\n",
      "126 is not prime\n",
      "127 is prime\n",
      "128 is not prime\n",
      "129 is not prime\n",
      "130 is not prime\n",
      "131 is prime\n",
      "132 is not prime\n",
      "133 is not prime\n",
      "134 is not prime\n",
      "135 is not prime\n",
      "136 is not prime\n",
      "137 is prime\n",
      "138 is not prime\n",
      "139 is prime\n",
      "140 is not prime\n",
      "141 is not prime\n",
      "142 is not prime\n",
      "143 is not prime\n",
      "144 is not prime\n",
      "145 is not prime\n",
      "146 is not prime\n",
      "147 is not prime\n",
      "148 is not prime\n",
      "149 is prime\n",
      "150 is not prime\n",
      "151 is prime\n",
      "152 is not prime\n",
      "153 is not prime\n",
      "154 is not prime\n",
      "155 is not prime\n",
      "156 is not prime\n",
      "157 is prime\n",
      "158 is not prime\n",
      "159 is not prime\n",
      "160 is not prime\n",
      "161 is not prime\n",
      "162 is not prime\n",
      "163 is prime\n",
      "164 is not prime\n",
      "165 is not prime\n",
      "166 is not prime\n",
      "167 is prime\n",
      "168 is not prime\n",
      "169 is not prime\n",
      "170 is not prime\n",
      "171 is not prime\n",
      "172 is not prime\n",
      "173 is prime\n",
      "174 is not prime\n",
      "175 is not prime\n",
      "176 is not prime\n",
      "177 is not prime\n",
      "178 is not prime\n",
      "179 is prime\n",
      "180 is not prime\n",
      "181 is prime\n",
      "182 is not prime\n",
      "183 is not prime\n",
      "184 is not prime\n",
      "185 is not prime\n",
      "186 is not prime\n",
      "187 is not prime\n",
      "188 is not prime\n",
      "189 is not prime\n",
      "190 is not prime\n",
      "191 is prime\n",
      "192 is not prime\n",
      "193 is prime\n",
      "194 is not prime\n",
      "195 is not prime\n",
      "196 is not prime\n",
      "197 is prime\n",
      "198 is not prime\n",
      "199 is prime\n",
      "200 is not prime\n"
     ]
    }
   ],
   "source": [
    "def is_prime(n):\n",
    "    if n <= 1:\n",
    "        return False\n",
    "    for i in range(2, n):\n",
    "        if n % i == 0:\n",
    "            return False\n",
    "    return True\n",
    "for num in range(1, 201):\n",
    "    if is_prime(num):\n",
    "        print(f\"{num} is prime\")\n",
    "    else:\n",
    "        print(f\"{num} is not prime\")"
   ]
  },
  {
   "cell_type": "code",
   "execution_count": null,
   "id": "fd4b0e42-f4bf-44ca-b688-465603fdca00",
   "metadata": {},
   "outputs": [],
   "source": [
    "Q.5. Create an iterator class in Python that generates the Fibonacci sequence up to a specified number of \n",
    "terms."
   ]
  },
  {
   "cell_type": "code",
   "execution_count": 104,
   "id": "9a7a3d56-f8b4-42e8-805c-4691df711cd2",
   "metadata": {},
   "outputs": [],
   "source": [
    "class FibonacciIterator:\n",
    "    def __init__(self, num_terms):\n",
    "        self.num_terms = num_terms\n",
    "        self.count = 0\n",
    "        self.a = 0\n",
    "        self.b = 1\n",
    "\n",
    "    def __iter__(self):\n",
    "        return self\n",
    "\n",
    "    def __next__(self):\n",
    "        if self.count >= self.num_terms:\n",
    "            raise StopIteration\n",
    "        if self.count == 0:\n",
    "            self.count += 1\n",
    "            return self.a\n",
    "        elif self.count == 1:\n",
    "            self.count += 1\n",
    "            return self.b\n",
    "        else:\n",
    "            self.count += 1\n",
    "            self.a, self.b = self.b, self.a + self.b\n",
    "            return self.b\n"
   ]
  },
  {
   "cell_type": "code",
   "execution_count": 105,
   "id": "10f1a712-3e28-412e-9690-aa3d77834cd3",
   "metadata": {},
   "outputs": [
    {
     "name": "stdout",
     "output_type": "stream",
     "text": [
      "0\n",
      "1\n",
      "1\n",
      "2\n",
      "3\n",
      "5\n",
      "8\n",
      "13\n",
      "21\n",
      "34\n"
     ]
    }
   ],
   "source": [
    "fib = FibonacciIterator(10)\n",
    "\n",
    "for number in fib:\n",
    "    print(number)\n"
   ]
  },
  {
   "cell_type": "code",
   "execution_count": null,
   "id": "65e934e4-9ed5-450b-8536-6af833a9e5ca",
   "metadata": {},
   "outputs": [],
   "source": [
    "Q.6 Write a generator function in Python that yields the powers of 2 up to a given exponent?"
   ]
  },
  {
   "cell_type": "code",
   "execution_count": 7,
   "id": "d9a01f7d-74b7-4fc5-b147-f20a96d6d4f8",
   "metadata": {},
   "outputs": [
    {
     "name": "stdout",
     "output_type": "stream",
     "text": [
      "1\n",
      "2\n",
      "4\n",
      "8\n",
      "16\n",
      "32\n"
     ]
    }
   ],
   "source": [
    "def power_of_two(n):\n",
    "    \"\"\"Generator that yields power of 2 up to exponent n.\"\"\"\n",
    "    for i in range(n + 1):\n",
    "        yield 2 ** i\n",
    "for value in power_of_two(5):\n",
    "    print(value)"
   ]
  },
  {
   "cell_type": "code",
   "execution_count": null,
   "id": "64609449-407c-44c5-98a6-1022673aefed",
   "metadata": {},
   "outputs": [],
   "source": [
    "Q.7 Implement a generator function that reads a file line by line and yields each line as a string?"
   ]
  },
  {
   "cell_type": "code",
   "execution_count": 8,
   "id": "5207a98d-6491-4f15-bd0b-5b87090c3537",
   "metadata": {},
   "outputs": [],
   "source": [
    "def read_file_lines(filename):\n",
    "    \"\"\"Generator that yields each line of a file as a string.\"\"\"\n",
    "    with open (filename, \"r\")as file:\n",
    "        for line in file:\n",
    "            yield line.rstrip(\"\\n\")"
   ]
  },
  {
   "cell_type": "code",
   "execution_count": 22,
   "id": "26cd142d-51be-416f-9db2-3881b45fb352",
   "metadata": {},
   "outputs": [
    {
     "name": "stdout",
     "output_type": "stream",
     "text": [
      "hello\n",
      "world\n"
     ]
    }
   ],
   "source": [
    "for line in read_file_lines(\"sample.txt\"):\n",
    "    print(line)"
   ]
  },
  {
   "cell_type": "code",
   "execution_count": null,
   "id": "ba8ef7e5-84cb-4000-b573-659018900339",
   "metadata": {},
   "outputs": [],
   "source": [
    "Q.8 Use a lambda function in Python to sort a list of tuples based on the second element of each tuple?"
   ]
  },
  {
   "cell_type": "code",
   "execution_count": 23,
   "id": "91598db6-6f79-40a7-84da-e09eb4e3be71",
   "metadata": {},
   "outputs": [
    {
     "name": "stdout",
     "output_type": "stream",
     "text": [
      "[(4, 1), (2, 2), (1, 3)]\n"
     ]
    }
   ],
   "source": [
    "# List of tuples\n",
    "my_list = [(1, 3), (4, 1), (2, 2)]\n",
    "sorted_list = sorted(my_list, key=lambda x: x[1])\n",
    "\n",
    "print(sorted_list)\n"
   ]
  },
  {
   "cell_type": "code",
   "execution_count": null,
   "id": "05f67d35-d2bb-4211-a537-bbc8ea76bb5e",
   "metadata": {},
   "outputs": [],
   "source": [
    "Q.9  Write a Python program that uses `map()` to convert a list of temperatures from Celsius to Fahrenheit?"
   ]
  },
  {
   "cell_type": "code",
   "execution_count": 24,
   "id": "e0b131b5-dd11-4e0d-8021-f00741c7bb51",
   "metadata": {},
   "outputs": [
    {
     "name": "stdout",
     "output_type": "stream",
     "text": [
      "Celsius: [0, 20, 30, 37, 100]\n",
      "Fahrenheit: [32.0, 68.0, 86.0, 98.6, 212.0]\n"
     ]
    }
   ],
   "source": [
    "# List of temperatures in Celsius\n",
    "celsius_temps = [0, 20, 30, 37, 100]\n",
    "\n",
    "# Convert to Fahrenheit using map() and lambda\n",
    "fahrenheit_temps = list(map(lambda c: (c * 9/5) + 32, celsius_temps))\n",
    "\n",
    "# Print the result\n",
    "print(\"Celsius:\", celsius_temps)\n",
    "print(\"Fahrenheit:\", fahrenheit_temps)\n"
   ]
  },
  {
   "cell_type": "code",
   "execution_count": null,
   "id": "52c9d2b3-c8c2-4d11-acb0-ec3684e64dec",
   "metadata": {},
   "outputs": [],
   "source": [
    "Q10. Create a Python program that uses `filter()` to remove all the vowels from a given string?"
   ]
  },
  {
   "cell_type": "code",
   "execution_count": 25,
   "id": "0565d54e-49d5-41e4-8f8a-171a378d4b12",
   "metadata": {},
   "outputs": [
    {
     "name": "stdin",
     "output_type": "stream",
     "text": [
      "Enter a string:  python is awesome\n"
     ]
    },
    {
     "name": "stdout",
     "output_type": "stream",
     "text": [
      "String without vowels: pythn s wsm\n"
     ]
    }
   ],
   "source": [
    "def remove_vowels(input_str):\n",
    "    vowels = \"aeiouAEIOU\"\n",
    "    return ''.join(filter(lambda char: char not in vowels, input_str))\n",
    "\n",
    "# Example usage\n",
    "user_input = input(\"Enter a string: \")\n",
    "result = remove_vowels(user_input)\n",
    "print(\"String without vowels:\", result)\n"
   ]
  },
  {
   "cell_type": "code",
   "execution_count": null,
   "id": "e09c122d-9956-4ec8-be70-99acb9743bbf",
   "metadata": {},
   "outputs": [],
   "source": [
    "Q.11  Imagine an accounting routine used in a book shop. It works on a list with sublists, which look like this:\n",
    " Write a Python program, which returns a list with 2-tuples. Each tuple consists of the order number and the \n",
    "product of the price per item and the quantity. The product should be increased by 10,- € if the value of the \n",
    "order is smaller than 100,00 €.\n",
    " Write a Python program using lambda and map?"
   ]
  },
  {
   "cell_type": "code",
   "execution_count": 26,
   "id": "3b4500ef-251b-48e3-8788-5a4dfdaea0f5",
   "metadata": {},
   "outputs": [
    {
     "name": "stdout",
     "output_type": "stream",
     "text": [
      "[(34587, 163.8), (98762, 284.0), (77226, 108.85), (88112, 84.97)]\n"
     ]
    }
   ],
   "source": [
    "orders = [\n",
    "    [34587, \"Learning Python, Mark Lutz\", 4, 40.95],\n",
    "    [98762, \"Programming Python, Mark Lutz\", 5, 56.80],\n",
    "    [77226, \"Head First Python, Paul Barry\", 3, 32.95],\n",
    "    [88112, \"Einführung in Python3, Bernd Klein\", 3, 24.99]\n",
    "]\n",
    "\n",
    "# Use map and lambda to process the list\n",
    "results = list(map(lambda order: (\n",
    "    order[0],\n",
    "    round(order[2] * order[3] + (10 if order[2] * order[3] < 100 else 0), 2)\n",
    "), orders))\n",
    "\n",
    "print(results)\n"
   ]
  },
  {
   "cell_type": "code",
   "execution_count": null,
   "id": "bd159fd2-32c5-4f8e-a03f-15e024bb2ea3",
   "metadata": {},
   "outputs": [],
   "source": []
  }
 ],
 "metadata": {
  "kernelspec": {
   "display_name": "Python 3 (ipykernel)",
   "language": "python",
   "name": "python3"
  },
  "language_info": {
   "codemirror_mode": {
    "name": "ipython",
    "version": 3
   },
   "file_extension": ".py",
   "mimetype": "text/x-python",
   "name": "python",
   "nbconvert_exporter": "python",
   "pygments_lexer": "ipython3",
   "version": "3.13.7"
  }
 },
 "nbformat": 4,
 "nbformat_minor": 5
}
