{
 "cells": [
  {
   "cell_type": "markdown",
   "id": "64df56f4-a306-45dd-88d2-6c65484023e4",
   "metadata": {},
   "source": [
    "#Q.1> What are data structures, and why are they important?\n",
    "     * This the answer>\n",
    "    * Data Structures → Data structures are specialized formats for organizing, storing, and manipulating data in a computer's memory to enable \n",
    "    efficient access, processing, and retrieval. They are crucial because they enhance a program's performance by making data operations faster and more memory efficient, allowing for the management of large data sets and effective functioning of complex software systems.  \n",
    "    * Why data structures are important:\n",
    "    1. Efficiency → Data structures organize data in a way that minimizes the time and memory required to perform operations like insertion, deletion, and searching. \n",
    "    2. Performance → The choice of the right data structure can significantly impact a program's speed and overall performance, making complex tasks solvable in less time.\n",
    "    3. Scalability → They allow for the management of large amounts of data which is essential for applications ranging from databases to big data analytics. \n",
    "    4. Code organization → Data structures provide a logical and organized way to store data, making the codebase easier to understand and maintain.\n",
    "    5. Problem Solving → Different data structures are suited for different types of problems; for example, an array is good for fixed-size sets of similar items, while a linked list is flexible for dynamic lists.\n",
    "    Eg → Arrays, string, list, tuples, set.\n"
   ]
  },
  {
   "cell_type": "markdown",
   "id": "9cf39e4d-6a02-41ff-b6fc-1235cb9df5ef",
   "metadata": {},
   "source": [
    "#Q.2>  Explain the difference between mutable and immutable data types with examples?\n",
    "   * This the answer>\n",
    "   * Mutable data type:\n",
    "   *  Mutable data types are those whose values or contents can be changed after they have been initialized. When a mutable object is modified, it is the same object that is being altered in memory; a new object is not created.\n",
    "   * Eg → List, Dictionary\n",
    "   *  L = [\"brinzal\", \"Apple\", 2, 3.4, True]\n",
    "   *  L(0) = \"potato\"\n",
    "   *  [\"potato\", \"Apple\", 2, 3.4, True]\n",
    "   \n",
    "   *  Immutable data type:\n",
    "   *  Immutable data types are those whose values or contents can't be changed once they are created. Any operation that appears to modify an immutable object actually results in the creation of a new object with the desired changes, while the original object remains unchanged.\n",
    "   *  Eg → String, Tuples\n",
    "   *  my_string = \"hello\"\n",
    "   *  print(f\"original string:\", {my_string})\n",
    "   *  new_string = my_string + \" world\"\n",
    "   *  print(f\"new string:\", {new_string})\n",
    "   *  my_string itself remains \"hello\"."
   ]
  },
  {
   "cell_type": "markdown",
   "id": "a8b501b6-a0fb-4b56-9c6a-450304bb296e",
   "metadata": {},
   "source": [
    "#Q.3>  What are the main differences between lists and tuples in Python?\n",
    "   * This is the answer>\n",
    "   * The main difference between lists and tuples in Python lies in their mutability.\n",
    "   * List → Lists are mutable, meaning their elements can be modified (added, removed, or changed) after the list has been created. They are defined using square brackets [].\n",
    "   * Eg: my_list = [1 2 3]\n",
    "   *  my_list.append(4) # adding an element\n",
    "   *  my_list[0] = 5\n",
    "   * print(my_list)\n",
    "   * Tuples → Tuples are immutable, meaning their elements cannot be changed, added, or removed once the tuple has been created. They are defined using parentheses ()\n",
    "  * Eg:> my_tuple = (1, 2, 3)\n",
    "  *  my_tuple.append(4)# raises AttributeError\n",
    "  *  my_tuple[0] = 5 # raises TypeError\n",
    "  *  print(my_tuple)\n"
   ]
  },
  {
   "cell_type": "markdown",
   "id": "6dc64f3c-270e-4cbd-a08a-77e88728ae80",
   "metadata": {},
   "source": [
    "#Q.4> Describe how dictionaries store data?\n",
    "   * This is the answer >\n",
    "   * Dictionary → A dictionary stores data as a collection of unique key-value pairs. This structure allows for efficient retrieval of values by their associated key, rather than by numerical indices like in a list or array.\n",
    "   *  They are defined using {} brackets.\n",
    "   *  How Stored Data →\n",
    "   1.  Key-value pairs > The fundamental unit of storage in a dictionary is a key-value pair. Each unique key maps to a specific value. Keys are typically immutable data types (like strings, tuples) while values can be of any data and can be duplicated.\n",
    "  2. Hashing:> When a key-value pair is added to a dictionary, the key is first passed through a hash function. This function converts the key into an\n",
    "integer, known as a hash code. The hash code is then used to determine the memory location where the key-value pair will be stored.\n",
    "  3. Hash Table → Used to store the key-value pairs\n",
    "   sub points of hash table>\n",
    "  1. Collision Handling: It is possible for different keys to produce the same hash code, leading to a hash collision. Dictionaries employ various techniques to handle these collision such as chaining or open addressing.\n",
    "  2. Chaining: Storing multiple key-value pairs that hash to the same location in a linked list or similar structure at that location.\n",
    "     open adressing >probabing for the next avaliable empty slot in harsh table if the initial location is ocupied.\n",
    " 3. Retrieval: When a value needs to be retrieved using its key, the same hash function is applied to the key to calculate its hash code. This hash code directs the search to the correct location in the hash table, where the corresponding value can be found and returned."
   ]
  },
  {
   "cell_type": "markdown",
   "id": "cfc03ab0-8bf5-47cd-a75a-3be937ba9d7a",
   "metadata": {},
   "source": [
    "#Q.5> Why might you use a set instead of a list in Python?\n",
    "   *This is the answer>\n",
    "   * Set is preferred over list>\n",
    "   * 1. Uniqueness of elements is required:>\n",
    "     Sets inherently store only unique elements, automatically removing any duplicate. If a collection must contain only distinct values, using a set simplifies this requirement.\n",
    "   Eg: Storing a list of email addresses or usernames.\n",
    "   * 2. Set operations(Union, Intersection, Difference):>\n",
    "    Sets provide built-in methods for mathematical set operations like Union (|) , Intersection (&), Difference (-), Symmetric difference (^).\n",
    "   * 3. Efficient membership testing Checking for existence):>\n",
    "     Sets offer significantly faster look-up times for checking if an element exists within the collection, especially for large data bases.\n",
    "   * 4.  Order is not important: Sets are unordered collections, meaning the elements donʼt maintain any specific insertion order.\n",
    "   >>When to use list instead:\n",
    ">   >Order preservation is crucial.\n",
    ">   > Duplicate elements are permitted.\n",
    ">   > Indexing and slicing are required."
   ]
  },
  {
   "cell_type": "markdown",
   "id": "a34ed25f-6913-4315-bd26-496d94036c1f",
   "metadata": {},
   "source": [
    "#Q.6> What is a string in Python, and how is it different from a list?\n",
    "  * This the answer>\n",
    "  * String A string is an immutable sequence of characters, used to represent text data.\n",
    "  * Strings are enclosed in single quotes (' '), double quotes (\" \"), or triple quotes (\"\"\" \"\"\") for multiline strings('''..''')\n",
    "  * Difference b/w strings and lists:>\n",
    "   1. Mutability :>\n",
    "     > Strings are immutable, meaning their content cannot be changed after creation.\n",
    "     > Lists are mutable, allowing elements to be added, removed, or modified after the list is created.\n",
    "  3. Content type:\n",
    "      > Strings hold a sequence of characters.\n",
    "      > Lists hold a collection of items of any data type.\n",
    "  4. Representation:\n",
    "     > Strings are defined using quotes.\n",
    "     > Lists are defined using brackets [].\n",
    "  6. Operations:\n",
    "    > String methods: upper(), split(), lower(), replace().\n",
    "    > List methods: append(), pop(), remove(), sort()."
   ]
  },
  {
   "cell_type": "markdown",
   "id": "cd7c7baf-8cf4-494f-8488-15150e7634d9",
   "metadata": {},
   "source": [
    "#Q.7> How do tuples ensure data integrity in Python?\n",
    "  * This is the answer>\n",
    "  * Tuples in Python Tuples in Python ensure data integrity primarily through their immutability, that means once a tuple is created, its elements can't be modified, added, or removed. This inherent characterstics provides a strong data guarantee of data integrity in several ways:>\n",
    "  * 1. Prevention of accidental modification:>\n",
    "    Since elements canʼt be changed, there is no risk of accidental or unintended alteration to the data stored within a tuple.\n",
    "  2. Consistency and reliability:>\n",
    "     The immutability of tuples ensures that the data they hold remains consistent if tuples are passed around different parts of a program or to multiple functions, its contents are guaranteed to be the same.\n",
    "  3.  Hashability: This allows tuples to be used as keys in dictionaries and elements in sets, where the immutability ensures that their hash value remains constant, which is essential for efficient lookups and storage in these data structures.\n",
    "  4.  Safe function returns: Their immutability ensures that the returned values can't be modified by the calling code, preserving the integrity of the data returned by the function."
   ]
  },
  {
   "cell_type": "markdown",
   "id": "686fda6c-97d3-4f6e-99f4-e1eb8b2c2071",
   "metadata": {},
   "source": [
    "#Q.8>  What is a hash table, and how does it relate to dictionaries in Python?\n",
    "   * This is the answer>\n",
    "   * Hash Table :>\n",
    "     A hash table is a data structure that implements an associative array, also known as a dictionary or map. It stores data as key-value pairs, where each key is mapped to a specific memory location using a hash function. This hash function takes the key as input and produces an integer value (the hash code), which is then used to determine storage location for the corresponding value.\n",
    "  * How Hash Table Relates to Dictionary:>\n",
    "    Python built-in dictionaries (dict) are implemented using hash tables. Python internally uses a hash table to store and retrieve this data efficiently.\n",
    "    1. Underlying implementation: Python dictionaries use a hash table as their fundamental data structure for storing key-value pairs.\n",
    "    2. Faster look-ups: When you try to access a value using its key in a dictionary, Python again hashes the key to quickly find its corresponding location in the hash table, enabling efficient retrieval.\n",
    "    3. Hashing keys: When you add a key-value pair to a dictionary, Python calculates the hash of the key using a built-in hash().\n",
    "    4. Key requirements: Keys are hashed, they must be \"hashable\", meaning they are immutable and have consistent hash values.\n",
    "    5. Collision Handling: Hash tables employ strategies like separate chaining or open addressing to handle hash collisions and ensure each key-value pair can be stored and retrieved correctly."
   ]
  },
  {
   "cell_type": "markdown",
   "id": "b5b3ef80-a75a-443f-adc1-7f4497b3f9f7",
   "metadata": {},
   "source": [
    "#Q.9>  Can lists contain different data types in Python?\n",
    "  * This is the answer>\n",
    "  *Yes, lists in Python can contain different data types. This is a key feature of Python lists, making them highly versatile for storing collections of diverse data.\n",
    " Eg: A single Python list can contain integers, strings, float, boolean, and even other lists or complex objects like dictionaries.\n",
    " Example: my_mixed_list = [1, \"Hello\", 3.14, True, [5, 6], {\"a\": 7}]"
   ]
  },
  {
   "cell_type": "markdown",
   "id": "195d14f6-c38f-4cf9-91e1-b7203452207e",
   "metadata": {},
   "source": [
    "#Q.10 > Explain why strings are immutable in Python?\n",
    "  * This is the answer>\n",
    "  Python strings are immutable, meaning that once a string object is created, its content cannot be changed. Any operation that appears to modify a string (such as concatenation or replacement) actually creates a new string object in memory, while the original string remains unchanged.\n",
    "  * Advantages:\n",
    "  1. Security & predictability\n",
    "  2. Thread safety\n",
    "  3. Performance optimization (caching and hashing)\n",
    "  4. Simplified memory management"
   ]
  },
  {
   "cell_type": "markdown",
   "id": "2f9f2b88-49b5-4f3e-b59d-d0e87c15c274",
   "metadata": {},
   "source": [
    "#Q.11> What advantages do dictionaries offer over lists for certain tasks?\n",
    "   * This is the answer>\n",
    "   * Dictionaries offer significantly faster look-up, deletion, and searches for specific items by using unique keys, whereas lists are better suited for ordered collections where elements are accessed by their numerical index. Dictionaries also provide more readable code for storing data with descriptive keys\n",
    "  (e.g., a student's age is stored under the key \"age\") compared to complex lists of lists.\n",
    "  * Advantages:>\n",
    "     1.Faster Data Retrieval:>\n",
    "     Dictionaries provide average O(1) time complexity for lookup, meaning you can find a value by its key almost instantly—regardless of dictionary size. Lists require an  O(n)  search (where 'n' is the number of items) to find one element, which is much slower for large collections.\n",
    "    2. More Readable Code:>\n",
    "     When storing data with a clear, meaningful identifier (like name or item description), dictionaries are more readable than trying to represent the same relationship with a list of lists.\n",
    "    3. Efficient Deletion:>\n",
    "     Dictionaries offer better performance for deleting items, particularly on large datasets, due to their efficient key-based access.\n",
    "    4. Flexible Data Organization:>\n",
    "     Dictionaries store data as key-value pairs, allowing one to associate data with descriptive labels rather than relying solely on numerical position."
   ]
  },
  {
   "cell_type": "code",
   "execution_count": null,
   "id": "cc7f984c-2dfc-4d56-97bc-1a56e6bc3509",
   "metadata": {},
   "outputs": [],
   "source": [
    "# Q.12>  Describe a scenario where using a tuple would be preferable over a list?\n",
    "   * This the answer>\n",
    "   *Both tuples and lists in Python are used to store collections of items, but the choice depends on mutability (whether the data should change).\n",
    "       Example: A scenario where a tuple is preferable over a list:\n",
    "  Location: (28.6129, 77.2090) # new delhi \n",
    "           coordinates\n",
    "  Why tuple instead of list? \n",
    "  1. Immutability: Coordinates of a city should not change after being defined. Using a tuple ensures they remain fixed.\n",
    "  2. Hashability: Tuples can be used as keys in dictionaries or elements of sets, while lists cannot. \n",
    "      City_codes = { (28.6129, 77.2090) : \"New Delhi\",\n",
    "                     (19.0760, 72.8777) :\"Mumbai\" }\n",
    "  3. Performance: Tuples are slightly faster and use less memory compared to lists. \n",
    "      Example: Days of week Constants):\n",
    "   days = (\"Monday\", \"Tuesday\", \"Wednesday\", \"Thursday\", \"Friday\", \"Saturday\", \"Sunday\") \n",
    "  >This is constant data; using a tuple makes it clear the sequence won't change\n"
   ]
  },
  {
   "cell_type": "markdown",
   "id": "6ada2e14-3e65-49df-b9fc-054fd525a6cb",
   "metadata": {},
   "source": [
    "#Q.13> How do sets handle duplicate values in Python?\n",
    "   * This is the answer>\n",
    "   * Python set objects are inherently designed to store only unique elements. They don't allow duplicate values; when you attempt to add a duplicate value to a set, the set simply ignores the addition. Set doesn't raise an error nor does it store the duplicates; the elements already present in the set remain and the new, identical element is not added.\n",
    "     > Example: Creating a set with duplicate values:\n",
    "     my_set = {1, 2, 2, 3, 4, 4, 5}\n",
    "     >  print(my_set) # Output: {1, 2, 3, 4, 5}"
   ]
  },
  {
   "cell_type": "raw",
   "id": "b8764e0d-a9a4-4335-8727-455a93684fb9",
   "metadata": {},
   "source": [
    "#Q.14> How does the “in” keyword work differently for lists and dictionaries?\n",
    "    * This is the answer>\n",
    "   * The \"in\" keyword in Python functions differently when used with dictionaries and lists due to their underlying data structures and how they store and retrieve data.\n",
    "  * lists:\n",
    "  1. When used with a list, it checks for the presence of a specific element within the list. \n",
    "  2. This check involves a linear search, meaning Python iterates through each item in the list sequentially until a match is found or the end of the list is reached. \n",
    "  3. The time complexity of this operation is $ O(n) $, in the worst case, where $ n $ is the number of elements in the list. \n",
    "  Example: my_list = [10,20,30,40,50]\n",
    "          print(20 in my_list) # Output: True \n",
    "          print(60 in my_list) # Output: False \n",
    "   *dictionary>\n",
    "     1. When \"in\" is used with a dictionary, it checks for the presence of a specific key within the dictionary. It doesnʼt check for values.               2. Dictionaries are implemented using hash tables, which allows for very efficient lookups. \n",
    "     3. When checking for a key, Python hashes the key and uses the resulting hash value to quickly locate the corresponding bucket in the hash table.\n",
    "     4. The time complexity of this operation is on average (constant time), making it significantly faster than list lookups for large collections.       Eg: my_dict = {\"apple\": 1, \"banana\": 2, \"cherry\": 3} \n",
    "        print(\"banana\" in my_dict)   # Output: True \n",
    "        print(1 in my_dict)          # Output: False \n",
    "        print(\"grapes\" in my_dict)   # Output: False"
   ]
  },
  {
   "cell_type": "markdown",
   "id": "ec2eb0b4-ea34-455f-a478-372baddc48ed",
   "metadata": {},
   "source": [
    "#Q.15> Can you modify the elements of a tuple? Explain why or why not?\n",
    "  * This is the answer>\n",
    "  * No, you cannot directly modify elements of a tuple in Python.\n",
    "  * Why not?:\n",
    "     Tuples are immutable data structures. This means that once a tuple is created, its contents cannot be changed; you cannot add, remove, or modify individual elements within the tuple. Any attempt to do so will result in a TypeError\n",
    "      "
   ]
  },
  {
   "cell_type": "markdown",
   "id": "b50ad6ec-0719-47b2-accd-0810a143d98d",
   "metadata": {},
   "source": [
    "#Q.16> What is a nested dictionary, and give an example of its use case?\n",
    "   *This is the answer>\n",
    "   * A nested dictionary is a dictionary inside another dictionary. It is useful when you need to represent hierarchical, structured, or relational data.\n",
    "   * Use Case>\n",
    "       marks = { \"Amit\": {\"Math\": 90, \"Science\": 85, \"English\": 81}, \"Rahul\": {\"Math\": 78, \"Science\": 92, \"English\": 81} }\n",
    "       print(marks[\"Amit\"][\"Science\"])  # 85\n"
   ]
  },
  {
   "cell_type": "markdown",
   "id": "060e389a-d0d1-41ec-be80-a313a2c741ff",
   "metadata": {},
   "source": [
    "#Q.17>  Describe the time complexity of accessing elements in a dictionary?\n",
    "   * This is the answer>\n",
    "   *Accessing elements in a dictionary such as in Python typically has an average time complexity of o(1), which represents constant time. This means that on average the time required to retrieve a value by its key does not significantly increase with the size of the dictionary.\n",
    "   *This efficiency is attributed to the internal implementation of dictionaries as hash tables. When a key is used to access a value, a hash function converts the key into a hash value. This hash value is then used to directly locate the corresponding value's storage location within the hash table. This direct mapping allows for very fast lookups."
   ]
  },
  {
   "cell_type": "markdown",
   "id": "d1949993-b59f-4615-a58e-319d22ce7458",
   "metadata": {},
   "source": [
    "#Q.18>  In what situations are lists preferred over dictionaries?\n",
    "  * This is the answer>\n",
    "   * Lists are preferred over dictionaries when the order of elements is important, or when you need a sequential collection of items that will be accessed by integer index, sorted, or iterated through. This includes scenarios like displaying steps in a process, maintaining a sequence of actions, or storing a simple ordered collection of related data where a unique key isn't needed for each item.\n",
    "   * Use list when:>\n",
    "      1.Order matters\n",
    "      2. Sequential access is needed\n",
    "      3. Data needs sorting or shuffling Simple\n",
    "      4. ordered collections are sufficient\n",
    "      5. Iterating through all elements is primary operation"
   ]
  },
  {
   "cell_type": "markdown",
   "id": "f6eb0b17-dc53-4d20-8063-0caacb56174f",
   "metadata": {},
   "source": [
    "#Q.19> Why are dictionaries considered unordered, and how does that affect data retrieval?\n",
    "   * This is the answer>\n",
    "   *Dictionaries are considered \"unordered\" because they cannot guarantee a specific, predictable sequence for their elements on insert and read. They are optimized for fast retrieval of values based on their association with keys, not their position.\n",
    "  * Why dictionaries are unordered:>\n",
    "    1. Key-value mapping\n",
    "    2. No implicit indexing\n",
    "    3. Optimization for speed\n",
    "    4 .Implementation details\n",
    "       * How this affects data retrieval:>\n",
    "          1. Key-based access: Dictionary uses its set of keys to access values, making data retrieval efficient when you know the key.\n",
    "          2. No order guarantee: “Unordered” means that the order in which items are stored and retrieved is not predictable or based on insertion                 time.\n",
    "          3.  Fast lookups: Dictionaries are optimized for speed, sacrificing order for quick storage and retrieval, which is ideal for keyword-based             data lookups.\n",
    "          4. No index-based access: Unlike ordered structures like list, you canʼt access data in a dictionary by an index or position.\n",
    "    * The Trade-off: Speed vs Order>\n",
    "       * Benefit of speed: Dictionaries excel at retrieving specific values very quickly by using their key, making them perfect for storing and looking up information where order isnʼt important.\n",
    "       * Drawback of unpredictability: If you need to retrieve items in a specific sequence, a dictionaryʼs unordered nature means it's not the right data structure"
   ]
  },
  {
   "cell_type": "code",
   "execution_count": null,
   "id": "6b5b0092-899a-425a-bc10-2334c6edc6f2",
   "metadata": {},
   "outputs": [],
   "source": [
    "#Q.20>  Explain the difference between a list and a dictionary in terms of data retrieval?\n",
    "  * This is the answer>\n",
    "   * Lists [index Retrieval]> \n",
    "    1. Lists are ordered collections whose elements are stored in a specific sequence.\n",
    "    2. Data retrieval relies on integer-based indexing, starting from 0 for the 1st element.\n",
    "    3. To access an element, its numerical position (index) within the list is specified.\n",
    "    4. Retrieval time can be linear(o(n1)) in the worst case (for searching for a specific value), as the list might need to be traversed sequentially.\n",
    "        Example: my_list = [\"apple\", \"banana\", \"cherry\"] \n",
    "               # Retrieving \"banana\" using its index \n",
    "               item = my_list[1] \n",
    "   * Dictionaries (Key-based Retrieval)>\n",
    "     1. Dictionaries are unordered collections of key-value pairs, where each unique key maps to a specific value.\n",
    "     2. Data retrieval relies on key-based lookup. \n",
    "     3. To access a value, its associated unique key is specified. \n",
    "     4. Retrieval time is typically constant on average for very fast lookups based on the key. \n",
    "         Example:\n",
    "         my_dict = {\"fruit1\": \"apple\", \"fruit2\": \"banana\", \"fruit3\": \"cherry\"} # Retrieving \"banana\" using its key \n",
    "         item = my_dict[\"fruit2\"]"
   ]
  },
  {
   "cell_type": "markdown",
   "id": "57d8506c-ec4c-4aca-8296-92a457741aa4",
   "metadata": {},
   "source": [
    "Practical Questions >>  "
   ]
  },
  {
   "cell_type": "code",
   "execution_count": null,
   "id": "35db5611-6e90-4432-9ed1-6c4483daa2b5",
   "metadata": {},
   "outputs": [],
   "source": [
    "#Q.1> Write a code to create a string with your name and print it?"
   ]
  },
  {
   "cell_type": "code",
   "execution_count": 1,
   "id": "2cb7d48e-b0d0-4ce3-b43f-6c6718ec5163",
   "metadata": {},
   "outputs": [
    {
     "name": "stdout",
     "output_type": "stream",
     "text": [
      "Arti saini\n"
     ]
    }
   ],
   "source": [
    "name = \"Arti saini\"\n",
    "print(name)"
   ]
  },
  {
   "cell_type": "code",
   "execution_count": null,
   "id": "ec242407-e69f-4fe9-a82a-21a0d11c8cea",
   "metadata": {},
   "outputs": [],
   "source": [
    "#Q.2> Write a code to find the length of the string \"Hello World\"?"
   ]
  },
  {
   "cell_type": "code",
   "execution_count": 2,
   "id": "2a50462e-3170-4f0e-8cef-57c7ab839dca",
   "metadata": {},
   "outputs": [
    {
     "data": {
      "text/plain": [
       "11"
      ]
     },
     "execution_count": 2,
     "metadata": {},
     "output_type": "execute_result"
    }
   ],
   "source": [
    "s = \"Hello World\"\n",
    "len(s)"
   ]
  },
  {
   "cell_type": "code",
   "execution_count": null,
   "id": "8e7e3c40-1b6f-4515-9783-6cb8be92343a",
   "metadata": {},
   "outputs": [],
   "source": [
    "#Q.3> Write a code to slice the first 3 characters from the string \"Python Programming\"?"
   ]
  },
  {
   "cell_type": "code",
   "execution_count": 5,
   "id": "d63f43ac-d3d1-49a8-8e06-04d2eebbeadb",
   "metadata": {},
   "outputs": [
    {
     "name": "stdout",
     "output_type": "stream",
     "text": [
      "pyt\n"
     ]
    }
   ],
   "source": [
    "text = \"python programming\"\n",
    "result = text[:3]\n",
    "print(result)"
   ]
  },
  {
   "cell_type": "code",
   "execution_count": null,
   "id": "9c9fb38a-b517-4dfc-9e7a-11da3f336e14",
   "metadata": {},
   "outputs": [],
   "source": [
    "#Q.4> Write a code to convert the string \"hello\" to uppercase?"
   ]
  },
  {
   "cell_type": "code",
   "execution_count": 9,
   "id": "ffd8651c-409f-4890-a16f-9ff21a65f99c",
   "metadata": {},
   "outputs": [
    {
     "name": "stdout",
     "output_type": "stream",
     "text": [
      "HELLO\n"
     ]
    }
   ],
   "source": [
    "text = \"hello\"\n",
    "print(text.upper())"
   ]
  },
  {
   "cell_type": "code",
   "execution_count": null,
   "id": "56d5090b-f9d6-4c06-b4da-4c663f9a2f61",
   "metadata": {},
   "outputs": [],
   "source": [
    "#Q.5> Write a code to replace the word \"apple\" with \"orange\" in the string \"I like apple\"?"
   ]
  },
  {
   "cell_type": "code",
   "execution_count": 11,
   "id": "447aa946-cfbd-45ea-b775-f4ac61dfac62",
   "metadata": {},
   "outputs": [
    {
     "name": "stdout",
     "output_type": "stream",
     "text": [
      "i like Orange\n"
     ]
    }
   ],
   "source": [
    "text = \"i like apple\"\n",
    "result = text. replace(\"apple\" , \"Orange\")\n",
    "print (result)"
   ]
  },
  {
   "cell_type": "code",
   "execution_count": null,
   "id": "1879d426-aac6-4886-aa19-8f25ef042ea9",
   "metadata": {},
   "outputs": [],
   "source": [
    "#Q.6> Write a code to create a list with numbers 1 to 5 and print it?"
   ]
  },
  {
   "cell_type": "code",
   "execution_count": 13,
   "id": "a1f9770a-d2b0-4c73-ab47-6941e1f11fc5",
   "metadata": {},
   "outputs": [
    {
     "name": "stdout",
     "output_type": "stream",
     "text": [
      "[1, 2, 3, 4, 5]\n"
     ]
    }
   ],
   "source": [
    "list = [1,2,3,4,5]\n",
    "print(list)"
   ]
  },
  {
   "cell_type": "code",
   "execution_count": null,
   "id": "ce63d6dd-7c82-4109-89b4-0db9f97dfdf5",
   "metadata": {},
   "outputs": [],
   "source": [
    "#Q.7> Write a code to append the number 10 to the list [1, 2, 3, 4]?"
   ]
  },
  {
   "cell_type": "code",
   "execution_count": 17,
   "id": "d42a2338-f84b-475a-b3af-27a00bc4a2f3",
   "metadata": {},
   "outputs": [
    {
     "name": "stdout",
     "output_type": "stream",
     "text": [
      "[1, 2, 3, 4, 10]\n"
     ]
    }
   ],
   "source": [
    "numbers = [1, 2, 3, 4]\n",
    "numbers.append(10)\n",
    "print(numbers)"
   ]
  },
  {
   "cell_type": "code",
   "execution_count": null,
   "id": "faa85ee9-3078-4480-88bd-167d35317604",
   "metadata": {},
   "outputs": [],
   "source": [
    "#Q.8> Write a code to remove the number 3 from the list [1, 2, 3, 4, 5]?"
   ]
  },
  {
   "cell_type": "code",
   "execution_count": 18,
   "id": "a70d14a0-fb0f-4711-ae48-24a7ec9bde89",
   "metadata": {},
   "outputs": [
    {
     "name": "stdout",
     "output_type": "stream",
     "text": [
      "[1, 2, 4, 5]\n"
     ]
    }
   ],
   "source": [
    "numbers = [1 , 2 , 3 , 4 , 5]\n",
    "numbers.remove(3)\n",
    "print(numbers)"
   ]
  },
  {
   "cell_type": "code",
   "execution_count": null,
   "id": "0d43b29a-de5f-4344-a76e-be2b8fdb6c5a",
   "metadata": {},
   "outputs": [],
   "source": [
    "#Q.9> P Write a code to access the second element in the list ['a', 'b', 'c', 'd']?"
   ]
  },
  {
   "cell_type": "code",
   "execution_count": 29,
   "id": "23198c8b-a1b8-4cde-add1-e9f2ea486f2c",
   "metadata": {},
   "outputs": [
    {
     "name": "stdout",
     "output_type": "stream",
     "text": [
      "['b']\n"
     ]
    }
   ],
   "source": [
    "letters = [\"a\" ,\"b\" ,\"c\" ,\"d\"]\n",
    "second_element = letters[1 : 2]\n",
    "print(second_element)"
   ]
  },
  {
   "cell_type": "code",
   "execution_count": null,
   "id": "a5d603c8-b9d9-47fa-8807-6765b4193006",
   "metadata": {},
   "outputs": [],
   "source": [
    "#Q.10> Write a code to reverse the list [10, 20, 30, 40, 50]?"
   ]
  },
  {
   "cell_type": "code",
   "execution_count": 31,
   "id": "16e2139f-89ba-4d8d-9125-bad0fdb42831",
   "metadata": {},
   "outputs": [
    {
     "name": "stdout",
     "output_type": "stream",
     "text": [
      "[50, 40, 30, 20, 10]\n"
     ]
    }
   ],
   "source": [
    "numbers = [10 , 20 , 30, 40 ,50]\n",
    "numbers.reverse()\n",
    "print(numbers)"
   ]
  },
  {
   "cell_type": "code",
   "execution_count": null,
   "id": "1549fce0-6b1a-470f-bcc9-4afdee0c27a7",
   "metadata": {},
   "outputs": [],
   "source": [
    "#Q.11> Write a code to create a tuple with the elements 100, 200, 300 and print it?"
   ]
  },
  {
   "cell_type": "code",
   "execution_count": 33,
   "id": "3caa7347-4c30-4a28-9944-0d13f6fa7bbb",
   "metadata": {},
   "outputs": [
    {
     "name": "stdout",
     "output_type": "stream",
     "text": [
      "(100, 200, 300)\n"
     ]
    }
   ],
   "source": [
    "numbers = (100 , 200 ,300)\n",
    "print(numbers)"
   ]
  },
  {
   "cell_type": "code",
   "execution_count": null,
   "id": "b4d75c98-8454-4e8b-a828-e6fa917735a7",
   "metadata": {},
   "outputs": [],
   "source": [
    "#Q.12> Write a code to access the second-to-last element of the tuple ('red', 'green', 'blue', 'yellow')?"
   ]
  },
  {
   "cell_type": "code",
   "execution_count": 36,
   "id": "1808c25b-cb5b-48fb-88ac-8666d7f8cf8a",
   "metadata": {},
   "outputs": [
    {
     "name": "stdout",
     "output_type": "stream",
     "text": [
      "blue\n"
     ]
    }
   ],
   "source": [
    "colors = ('red' , 'green' ,'blue' , 'yellow')\n",
    "print(colors[-2])"
   ]
  },
  {
   "cell_type": "code",
   "execution_count": null,
   "id": "c05572d1-96bb-4cee-b5ff-f3345586a6e4",
   "metadata": {},
   "outputs": [],
   "source": [
    "#Q.13> Write a code to find the minimum number in the tuple (10, 20, 5, 15)?"
   ]
  },
  {
   "cell_type": "code",
   "execution_count": 37,
   "id": "25171d01-e91e-4b77-aaf5-cccc43189cd7",
   "metadata": {},
   "outputs": [
    {
     "name": "stdout",
     "output_type": "stream",
     "text": [
      "5\n"
     ]
    }
   ],
   "source": [
    "number = (10 , 20 , 5 , 15)\n",
    "print(min(number))"
   ]
  },
  {
   "cell_type": "code",
   "execution_count": null,
   "id": "4cd374b9-c43c-4873-980f-601187335795",
   "metadata": {},
   "outputs": [],
   "source": [
    "#Q.14>  Write a code to find the index of the element \"cat\" in the tuple ('dog', 'cat', 'rabbit')?"
   ]
  },
  {
   "cell_type": "code",
   "execution_count": 46,
   "id": "109f4b7e-20a3-4f03-90ee-1059820d9627",
   "metadata": {},
   "outputs": [
    {
     "name": "stdout",
     "output_type": "stream",
     "text": [
      "1\n"
     ]
    }
   ],
   "source": [
    "animals = ('dog', 'cat','rabbit')\n",
    "index_cat = animals.index('cat')\n",
    "print(index_cat)"
   ]
  },
  {
   "cell_type": "code",
   "execution_count": null,
   "id": "cdac2a6c-a15d-4611-9737-afab1185fced",
   "metadata": {},
   "outputs": [],
   "source": [
    "#Q.15> Write a code to create a tuple containing three different fruits and check if \"kiwi\" is in it? "
   ]
  },
  {
   "cell_type": "code",
   "execution_count": 8,
   "id": "9b90afa1-e672-4138-b794-30d8ebe96c9c",
   "metadata": {},
   "outputs": [
    {
     "name": "stdout",
     "output_type": "stream",
     "text": [
      "yes, kiwi is in the tuple!\n"
     ]
    }
   ],
   "source": [
    "fruits = (\"apple\" , \"banana\" , \"kiwi\")\n",
    "if \"kiwi\" in fruits:\n",
    "    print(\"yes, kiwi is in the tuple!\")\n",
    "else:\n",
    "    print(\"No ,kiwi is mot in the tuple\")"
   ]
  },
  {
   "cell_type": "code",
   "execution_count": null,
   "id": "1f7d5418-2930-4dbc-8618-8cb14832b313",
   "metadata": {},
   "outputs": [],
   "source": [
    "#Q.16>  Write a code to create a set with the elements 'a', 'b', 'c' and print it?"
   ]
  },
  {
   "cell_type": "code",
   "execution_count": 3,
   "id": "179718e8-523d-4001-8838-77ee005ab69c",
   "metadata": {},
   "outputs": [
    {
     "name": "stdout",
     "output_type": "stream",
     "text": [
      "{'b', 'a', 'c'}\n"
     ]
    }
   ],
   "source": [
    "letters = {'a' ,'b' ,'c'}\n",
    "print(letters)"
   ]
  },
  {
   "cell_type": "code",
   "execution_count": null,
   "id": "0a86c9fc-9fa4-4cbc-aa77-46bda92c243d",
   "metadata": {},
   "outputs": [],
   "source": [
    "#Q.17>  Write a code to clear all elements from the set {1, 2, 3, 4, 5}?"
   ]
  },
  {
   "cell_type": "code",
   "execution_count": 10,
   "id": "bbfcac4c-b88c-431e-ab38-c10a2e9bd8ae",
   "metadata": {},
   "outputs": [
    {
     "name": "stdout",
     "output_type": "stream",
     "text": [
      "set()\n"
     ]
    }
   ],
   "source": [
    "my_set ={1 , 2 , 3 , 4 , 5}\n",
    "my_set.clear()\n",
    "print(my_set)"
   ]
  },
  {
   "cell_type": "code",
   "execution_count": null,
   "id": "e49fa5b6-cb18-444d-a4f1-64fe1127da0b",
   "metadata": {},
   "outputs": [],
   "source": [
    "#Q.18> Write a code to remove the element 4 from the set {1, 2, 3, 4}?"
   ]
  },
  {
   "cell_type": "code",
   "execution_count": 12,
   "id": "ccc38c33-8697-4275-b730-60503e15b15f",
   "metadata": {},
   "outputs": [
    {
     "name": "stdout",
     "output_type": "stream",
     "text": [
      "{1, 2, 3}\n"
     ]
    }
   ],
   "source": [
    "my_set = {1,2,3,4}\n",
    "my_set.remove(4)\n",
    "print(my_set)"
   ]
  },
  {
   "cell_type": "code",
   "execution_count": null,
   "id": "1b9429ae-1e16-49fa-acee-6b4808ef3bad",
   "metadata": {},
   "outputs": [],
   "source": [
    "#Q.19>  Write a code to find the union of two sets {1, 2, 3} and {3, 4, 5}?"
   ]
  },
  {
   "cell_type": "code",
   "execution_count": 13,
   "id": "1c0230bd-88e8-4176-b2c8-203cd1f40380",
   "metadata": {},
   "outputs": [
    {
     "name": "stdout",
     "output_type": "stream",
     "text": [
      "{1, 2, 3, 4, 5}\n"
     ]
    }
   ],
   "source": [
    "a = {1,2,3}\n",
    "b = {3,4,5}\n",
    "print(a|b)"
   ]
  },
  {
   "cell_type": "code",
   "execution_count": null,
   "id": "ae05d26d-ff79-40aa-8353-83927ffbc5e3",
   "metadata": {},
   "outputs": [],
   "source": [
    "#Q.20>  Write a code to find the intersection of two sets {1, 2, 3} and {2, 3, 4}?"
   ]
  },
  {
   "cell_type": "code",
   "execution_count": 14,
   "id": "e763df3a-bc4d-4c86-a075-a3f4ba250bdd",
   "metadata": {},
   "outputs": [
    {
     "name": "stdout",
     "output_type": "stream",
     "text": [
      "{2, 3}\n"
     ]
    }
   ],
   "source": [
    "a = {1,2,3}\n",
    "b = {2,3,4}\n",
    "print(a&b)"
   ]
  },
  {
   "cell_type": "code",
   "execution_count": null,
   "id": "80f1b019-6192-4f34-b6e7-21e2806f9c99",
   "metadata": {},
   "outputs": [],
   "source": [
    "#Q.21>  Write a code to create a dictionary with the keys \"name\", \"age\", and \"city\", and print it?"
   ]
  },
  {
   "cell_type": "code",
   "execution_count": 18,
   "id": "0ef8dc4e-c884-4e37-a83d-763e6cdd1f16",
   "metadata": {},
   "outputs": [
    {
     "name": "stdout",
     "output_type": "stream",
     "text": [
      "{'name': 'arti', 'age': 25, 'city': 'delhi'}\n"
     ]
    }
   ],
   "source": [
    "person = {\"name\" : \"arti\" , \"age\" : 25 , \"city\" : \"delhi\"}\n",
    "print(person)"
   ]
  },
  {
   "cell_type": "code",
   "execution_count": null,
   "id": "d7b6883a-9f6d-4981-8a1e-d3d469fcfb95",
   "metadata": {},
   "outputs": [],
   "source": [
    "#Q.22>  Write a code to add a new key-value pair \"country\": \"USA\" to the dictionary {'name': 'John', 'age': 25}?"
   ]
  },
  {
   "cell_type": "code",
   "execution_count": 23,
   "id": "2a307232-88b9-4a64-bb3d-fce26a89def8",
   "metadata": {},
   "outputs": [
    {
     "name": "stdout",
     "output_type": "stream",
     "text": [
      "{'name': 'john', 'age': 25, 'country': 'USA'}\n"
     ]
    }
   ],
   "source": [
    "person = {\"name\" : \"john\" , \"age\" : 25}\n",
    "person[\"country\"] = \"USA\"\n",
    "print(person)"
   ]
  },
  {
   "cell_type": "code",
   "execution_count": null,
   "id": "26852563-688c-4333-8dee-b83c2298d899",
   "metadata": {},
   "outputs": [],
   "source": [
    "#Q.23> Write a code to access the value associated with the key \"name\" in the dictionary {'name': 'Alice', 'age': 30}?"
   ]
  },
  {
   "cell_type": "code",
   "execution_count": 26,
   "id": "4d57a226-d8dc-475d-8f11-0f2c6ae7675c",
   "metadata": {},
   "outputs": [
    {
     "name": "stdout",
     "output_type": "stream",
     "text": [
      "alice\n"
     ]
    }
   ],
   "source": [
    "person = {\"name\" : \"alice\" , \"age\" : 30}\n",
    "print(person[\"name\"])"
   ]
  },
  {
   "cell_type": "code",
   "execution_count": null,
   "id": "83089533-2072-44a6-89f7-610024fe71a0",
   "metadata": {},
   "outputs": [],
   "source": [
    "#Q.24>  Write a code to remove the key \"age\" from the dictionary {'name': 'Bob', 'age': 22, 'city': 'New York'}?"
   ]
  },
  {
   "cell_type": "code",
   "execution_count": 27,
   "id": "8a4dd6ab-416f-48e8-a779-384c9acdfb06",
   "metadata": {},
   "outputs": [
    {
     "name": "stdout",
     "output_type": "stream",
     "text": [
      "{'name': 'bob', 'city': 'newyork'}\n"
     ]
    }
   ],
   "source": [
    "person = {\"name\" :\"bob\" , \"age\" : 22 , \"city\" : \"newyork\"}\n",
    "person.pop(\"age\")\n",
    "print(person)"
   ]
  },
  {
   "cell_type": "code",
   "execution_count": null,
   "id": "1a5d2ae4-8f9e-4510-b892-6a6b671a852e",
   "metadata": {},
   "outputs": [],
   "source": [
    "#Q.25>  Write a code to check if the key \"city\" exists in the dictionary {'name': 'Alice', 'city': 'Paris'}?"
   ]
  },
  {
   "cell_type": "code",
   "execution_count": 32,
   "id": "6009d5f1-d26f-491a-83dd-30991ef76775",
   "metadata": {},
   "outputs": [
    {
     "name": "stdout",
     "output_type": "stream",
     "text": [
      "yes,'city' exits in the dictionary\n"
     ]
    }
   ],
   "source": [
    "person = {\"name\" : \"alice\" , \"city\" : \"paris\"}\n",
    "if \"city\" in person:\n",
    "    print(\"yes,'city' exits in the dictionary\")\n",
    "else:\n",
    "    print(\"no ,'city' does not exit\")"
   ]
  },
  {
   "cell_type": "code",
   "execution_count": null,
   "id": "6c6d41b3-2227-4155-a9af-0ad74e8ed841",
   "metadata": {},
   "outputs": [],
   "source": [
    "#Q.26> . Write a code to create a list, a tuple, and a dictionary, and print them all?"
   ]
  },
  {
   "cell_type": "code",
   "execution_count": 35,
   "id": "9c76c5ee-35e1-4310-b132-e1be4b270b19",
   "metadata": {},
   "outputs": [
    {
     "name": "stdout",
     "output_type": "stream",
     "text": [
      "list: [10, 20, 30, 40]\n",
      "tuple: ('apple', 'banana', 'cherry')\n",
      "dictionary: {'name': 'alice', 'age': 25, 'city': 'paris'}\n"
     ]
    }
   ],
   "source": [
    "my_list = [ 10,20,30,40]\n",
    "my_tuple =( \"apple\" ,\"banana\",\"cherry\")\n",
    "my_dict ={ \"name\" : \"alice\" , \"age\" : 25 , \"city\" : \"paris\"}\n",
    "print(\"list:\", my_list)\n",
    "print(\"tuple:\", my_tuple)\n",
    "print(\"dictionary:\", my_dict)"
   ]
  },
  {
   "cell_type": "code",
   "execution_count": null,
   "id": "8c02d39e-0a16-4bbb-bf01-d5482ded2514",
   "metadata": {},
   "outputs": [],
   "source": [
    "#Q.27> Write a code to create a list of 5 random numbers between 1 and 100, sort it in ascending order, and print the\n",
    "result.(replaced)"
   ]
  },
  {
   "cell_type": "code",
   "execution_count": 42,
   "id": "7011b6c6-4fe0-4b69-aea6-eadde93b3809",
   "metadata": {},
   "outputs": [
    {
     "name": "stdout",
     "output_type": "stream",
     "text": [
      "original list: [3, 33, 58, 82, 36]\n",
      "sorted list: [3, 33, 36, 58, 82]\n"
     ]
    }
   ],
   "source": [
    "import random\n",
    "numbers = [random.randint(1 ,100) for _ in range(5)]\n",
    "print(\"original list:\" , numbers)\n",
    "numbers.sort()\n",
    "print(\"sorted list:\",numbers)"
   ]
  },
  {
   "cell_type": "code",
   "execution_count": null,
   "id": "28ffbdf5-627d-4e61-8b7b-a6cb57909f99",
   "metadata": {},
   "outputs": [],
   "source": [
    "#Q.28> Write a code to create a list with strings and print the element at the third index?"
   ]
  },
  {
   "cell_type": "code",
   "execution_count": 43,
   "id": "39de101e-1fde-4148-b5ac-4ae37511b319",
   "metadata": {},
   "outputs": [
    {
     "name": "stdout",
     "output_type": "stream",
     "text": [
      "mango\n"
     ]
    }
   ],
   "source": [
    "fruits = [\"apple\", \"banana\", \"cherry\" ,\"mango\" ,\"orange\"]\n",
    "print(fruits[3])"
   ]
  },
  {
   "cell_type": "code",
   "execution_count": null,
   "id": "8e931158-89ec-49a2-9746-4d3c005ed549",
   "metadata": {},
   "outputs": [],
   "source": [
    "#Q.29> Write a code to combine two dictionaries into one and print the result?"
   ]
  },
  {
   "cell_type": "code",
   "execution_count": 46,
   "id": "69d426cd-ab6b-4b20-b38f-7b1206b6eb9d",
   "metadata": {},
   "outputs": [
    {
     "name": "stdout",
     "output_type": "stream",
     "text": [
      "combined dictionary: {'a': 1, 'b': 2, 'c': 3, 'd': 4}\n"
     ]
    }
   ],
   "source": [
    "dict1 = {\"a\" : 1, \"b\" : 2}\n",
    "dict2 ={\"c\" :3,\"d\" :4}\n",
    "combined_dict = dict1.copy()\n",
    "combined_dict.update(dict2)\n",
    "print(\"combined dictionary:\",combined_dict)"
   ]
  },
  {
   "cell_type": "code",
   "execution_count": null,
   "id": "f7f2511c-029f-41a5-b7bc-772d90c1c581",
   "metadata": {},
   "outputs": [],
   "source": [
    "#Q.30>  Write a code to convert a list of strings into a set?"
   ]
  },
  {
   "cell_type": "code",
   "execution_count": 44,
   "id": "d9560dc9-cb57-4c08-be79-26b31e315248",
   "metadata": {},
   "outputs": [
    {
     "name": "stdout",
     "output_type": "stream",
     "text": [
      "set: {'banana', 'apple', 'orange'}\n"
     ]
    }
   ],
   "source": [
    "my_list = [\"apple\", \"banana\", \"apple\",\"orange\",\"banana\"]\n",
    "my_set = set(my_list)\n",
    "print(\"set:\",my_set)"
   ]
  },
  {
   "cell_type": "code",
   "execution_count": null,
   "id": "dbdb6615-1487-456a-8a79-39a202e0c788",
   "metadata": {},
   "outputs": [],
   "source": []
  }
 ],
 "metadata": {
  "kernelspec": {
   "display_name": "Python 3 (ipykernel)",
   "language": "python",
   "name": "python3"
  },
  "language_info": {
   "codemirror_mode": {
    "name": "ipython",
    "version": 3
   },
   "file_extension": ".py",
   "mimetype": "text/x-python",
   "name": "python",
   "nbconvert_exporter": "python",
   "pygments_lexer": "ipython3",
   "version": "3.13.7"
  }
 },
 "nbformat": 4,
 "nbformat_minor": 5
}
