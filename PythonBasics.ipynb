{
 "cells": [
  {
   "cell_type": "markdown",
   "id": "592d3e6f-3e9a-4ebc-b40b-e3e7f7e123f4",
   "metadata": {},
   "source": [
    "#Q1. What is Python, and why is it popular?\n",
    "  * This is the answer:\n",
    "  * Python is a high-level, interpreted programming language that is widely used for analyzing data, automating tasks, building applications, developing websites, machine learning.\n",
    "  * why python is popular :\n",
    "  * 1.simple and easy to learn.\n",
    "  * 2.versatile : it can be used for development, data  science, machine learning desktop apps.\n",
    "  * large community and support : Million of developers use python so,tutorials and libraries are easily avaliable.\n",
    "  * huge library ecosystem : python has pre built libraries like numpy, pandas, django which speed up development.\n",
    "  * to read python code"
   ]
  },
  {
   "cell_type": "code",
   "execution_count": null,
   "id": "c7b14daf-9c65-4b4e-9ec8-bcb92a93de43",
   "metadata": {},
   "outputs": [],
   "source": [
    "#Q(2)  What is an interpreter in Python?  \n",
    "  * This is the answer :\n",
    "  * interpreter in python: An interpreter in python is a programme that directly executes codes written in python programming. \n",
    "    it translates and executes code line by line.interpreter are slower than complier and detect errors one at a time.They do not create seprate\n",
    "    output files.\n",
    "  * Examples of interpreted language :> python, Ruby and java script.\n",
    "  * uses of interpreter:> 1. script execution\n",
    "                          2. interactive development and testing\n",
    "                          3. Debugging."
   ]
  },
  {
   "cell_type": "code",
   "execution_count": null,
   "id": "9616fd1a-13eb-4d86-93f3-1bee082a6b3e",
   "metadata": {},
   "outputs": [],
   "source": [
    "#Q(3) What are pre-defined keywords in Python?\n",
    "Pre-defined Keywords in Python:>\n",
    "  * Predefined keywords in Python are reserved words that possess specific immutable meanings within the language’s syntax.\n",
    "  * You can’t use them as variable names, function names, or identifiers because Python uses them for its own syntax and structure.\n",
    "Examples: if, for, def, class, import."
   ]
  },
  {
   "cell_type": "code",
   "execution_count": null,
   "id": "2db60319-1e25-4bc1-ba5c-be85bcb74093",
   "metadata": {},
   "outputs": [],
   "source": [
    "#Q(4) Can keywords be used as variable names ?\n",
    "  * This is the answwer:>\n",
    "  * No, keywords cannot be used as variable names in Python because python keywords are reserved words and they have specific meanings\n",
    "   and functions within the language syntax and structure.\n",
    "  *Attempting to use a keyword as a variable name will result in a syntax error.\n",
    "Example:\n",
    "for = 10\n",
    "print(for)"
   ]
  },
  {
   "cell_type": "code",
   "execution_count": null,
   "id": "69b911fa-8695-40b0-a339-d053342fbdcf",
   "metadata": {},
   "outputs": [],
   "source": [
    "#Q(5) What is mutability in Python ?\n",
    "  * This is the answer:>\n",
    "  * Mutability refers to whether an object’s state or value can be modified after it has been created.\n",
    "[2]\n",
    "  * Definition: Mutable objects are those whose content or internal state can be changed without creating a new object in memory.\n",
    "  * Examples: lists, dictionaries, sets."
   ]
  },
  {
   "cell_type": "code",
   "execution_count": null,
   "id": "1514fdc1-8573-40e5-905e-bf518331a618",
   "metadata": {},
   "outputs": [],
   "source": [
    "#Q(6) Why are lists mutable, but tuples are immutable ?\n",
    "  * This the answer:>\n",
    "  * Lists are mutable because we can change an item in a list by accessing it directly as part of assignment statement.\n",
    "Reasons:\n",
    "1. In-place modification.\n",
    "2. Dynamic data structures.\n",
    "3. Convenience and ease of use.\n",
    "  * Tuples are immutable, which means their elements can't be changed, added, or removed after the tuple has been created.\n",
    "Reasons:\n",
    "1. Use as dictionary keys.\n",
    "2. Data integrity and predictability.\n",
    "3. Performance optimization.\n",
    "4. Passing fixed collections.\n",
    "5. Functional programming.\n",
    "[3]"
   ]
  },
  {
   "cell_type": "code",
   "execution_count": null,
   "id": "da20ba71-784d-4661-ba8f-9369bcd46ba4",
   "metadata": {},
   "outputs": [],
   "source": [
    "#Q(7) What is the difference between “==” and “is” operators in Python ?\n",
    "  * This the answer :>\n",
    "  * == Equality Operator:>\n",
    "1. This operator compares the values of two objects.\n",
    "2. It evaluates whether the content or data represented by the objects is the same.\n",
    "3. For custom classes, the behavior of == can be defined by implementing the __eq__ method.\n",
    "Example:\n",
    "a = [1, 2, 3]\n",
    "b = [1, 2, 3]\n",
    "print(a == b) # output: True\n",
    "\n",
    "is Identity Operator\n",
    "1. The identity operator compares the identity of two objects.\n",
    "2. It checks whether two variables refer to the exact same object in memory.\n",
    "3. It essentially compares the memory address of the objects.\n",
    "Example:\n",
    "a = [1, 2, 3]\n",
    "b = [1, 2, 3]\n",
    "print(a is b) # output: False\n",
    "c = a\n",
    "print(a is c) # output: True\n",
    "      "
   ]
  },
  {
   "cell_type": "code",
   "execution_count": null,
   "id": "c6d72ed9-9b0b-4a56-b05f-86ab747c2d13",
   "metadata": {},
   "outputs": [],
   "source": [
    "# Q(8)  What are logical operators in Python?\n",
    "  * This is the answer :>\n",
    "  * In Python, logical operators are used to combine multiple conditions together and evaluate them as a single boolean expression.\n",
    "      4\n",
    "  * Three types of logical operators: \"And\", \"Or\", \"Not\"\n",
    "  * And: True if both operands are True, else False. \n",
    "  * Or: True if at least one operand is True.  \n",
    "  * Not: Inverts true to false or false to true."
   ]
  },
  {
   "cell_type": "code",
   "execution_count": null,
   "id": "3083162e-e257-48d6-9e9e-5cf8a78794cd",
   "metadata": {},
   "outputs": [],
   "source": [
    "#Q(9) What is type casting in Python ?\n",
    "  * This is the answer:>\n",
    "  *Type casting in Python (also known as type conversion) is the process of converting a variable or value from one data type to another."
   ]
  },
  {
   "cell_type": "markdown",
   "id": "061690f2-3c9a-458e-b45e-48b81777bb6f",
   "metadata": {},
   "source": [
    "#Q(10) What is the difference between implicit and explicit type casting ?\n",
    "  * This the answer:>\n",
    "  * Difference between Implicit and Explicit Type Casting\n",
    "   1. Implicit Type Casting: Python automatically converts one data type to another without explicit user intervention.\n",
    "   2. This typically occurs when converting a smaller data type to a \"larger\" one to prevent data loss, such as converting an integer to a \n",
    "   floating-point number during an arithmetic operations.\n",
    "   \n",
    "  * Example: integer_num = 10 float_num = 5.5 \n",
    "   result = integer_num + float_num print(result) # output: 15.52.\n",
    "   * Explicit Type Casting: This require the  programmer to explicitly converts a variableʼs data type using built-in functions.\n",
    "   It is used when converting to a \"smaller\" data type or when a specific type is required for operation. \n",
    "   Examples: int() converts to an integer \n",
    "            float() converts to floating number \n",
    "            str() converts to string \n",
    "   Example: float_value = 10.7\n",
    "  1. integer_value = int(float_value)\n",
    "       print(integer_value)       # output: 10\n",
    "\n",
    "  2. string_number = \"123\"\n",
    "   converted_int = int(string_number)\n",
    "       print(converted_int)       # output: 123\n",
    "\n",
    "     "
   ]
  },
  {
   "cell_type": "code",
   "execution_count": null,
   "id": "d10de46b-ca14-4943-b537-f3b50beb6060",
   "metadata": {},
   "outputs": [],
   "source": [
    "#Q(11) What is the purpose of conditional statements in Python?\n",
    "  * This is the answer:>\n",
    "  *Purpose of Conditional Statements:> The purpose of conditional statements in Python is to enable decision-making within a program, \n",
    "  allowing different blocks of code to be executed based on whether specific conditions are True or False. This provides control over the programmer's\n",
    "  flow,making it dynamic and responsive to varying inputs or states.\n",
    "      \n",
    "     *Key aspects:\n",
    "\n",
    "   1. Controlling program flow:> Conditional statements such as if , if-else , and if-elif-else direct the program to follow different paths of\n",
    "execution depending on the evaluation of a condition.\n",
    "    \n",
    "   2. Decision-Making :> They allow programs to make choices for executing specific actions only when certain criteria are met. \n",
    "       Example: A program might check if a user is old enough to access a feature and grant or deny access accordingly. \n",
    "       \n",
    "   3. Handling Multiple Scenarios :> If-elif-else constructs are particularly useful for handling multiple  mutually exclusive conditions,\n",
    "    ensuring that only one specific block of code is executed among several possibilities.\n",
    "        \n",
    "   4. Implementing Logic:> Conditional statements are fundamental for implementing complex logical structures within a program, allowing it to respond\n",
    "    intelligently to different situations and data. \n",
    "        \n",
    "   5. To handle error conditions, conditional statements can be used to check for potential errors and execute specific codes for handling them."
   ]
  },
  {
   "cell_type": "code",
   "execution_count": null,
   "id": "f6146ddb-2a2b-4124-a004-e3ea5ac4bbee",
   "metadata": {},
   "outputs": [],
   "source": [
    "#Q(12)How does the elif statement work ?\n",
    "  *This is the answer:>\n",
    "   *Elif Statement in Python:> The  elif (else if) statement is used to check multiple conditions in sequence. If the first condition is false, \n",
    "the elif condition is checked, and so on.\n",
    "    \n",
    "    *Syntax:\n",
    "   1. if Condition1:# Code to execute if Condition1 is true\n",
    "\n",
    "   2. elif Condition2: # Code to execute if Condition2 is true \n",
    "\n",
    "   3. else: # Code to execute if none of the conditions are true"
   ]
  },
  {
   "cell_type": "code",
   "execution_count": null,
   "id": "78f08485-41be-48fe-9952-13799d2395f8",
   "metadata": {},
   "outputs": [],
   "source": [
    "#Q(13)What is the difference between for and while loops ?\n",
    "  * This is the answer:>\n",
    "  *A while loop in Python repeatedly executes a block of code as long as a specified condition remains True. It is particularly useful when the number\n",
    "of iterations is not known beforehand and the loop needs to continue until a certain condition is met. \n",
    "    In easy language: The block keeps executing until the condition is true.\n",
    "   1. The condition is checked first. If it evaluates to true, the body of the loop is executed, otherwise not.\n",
    "   2. If the loop is entered, the process of condition check and execution is continued until the condition becomes false.\n",
    "       \n",
    "    * For Loop :> A for loop is used to iterate through a sequence like list, tuple, or string (iterables). It is a control flow statement in \n",
    "programming used to execute a block of code repeatedly. It is typically employed when the number of iterations is known or can be determined before\n",
    "the loop begins."
   ]
  },
  {
   "cell_type": "markdown",
   "id": "7b36c099-5dfb-4328-a30f-1aadb42ace52",
   "metadata": {},
   "source": [
    "#Q(14)Describe a scenario where a while loop is more suitable than a for loop?\n",
    "   * This is the answer:>\n",
    "   A while loop is more suitable when you don't know in advance how many times the loop will run and the solution depends on a condition being true or false.\n",
    "  Example:> secret_number = 7\n",
    "             guess = 0\n",
    "     while guess != secret_number:\n",
    "      guess = int(input(\"Guess the number (1-10): \"))\n",
    "      User guesses: 1, 2, 3, 5, 7\n"
   ]
  },
  {
   "cell_type": "code",
   "execution_count": null,
   "id": "cdc166a8-c9b5-418e-b363-3325937fd769",
   "metadata": {},
   "outputs": [],
   "source": [
    " * Practical Questions :>"
   ]
  },
  {
   "cell_type": "code",
   "execution_count": 32,
   "id": "be204248-5cb3-42d8-bf6e-63225b1d1d5e",
   "metadata": {},
   "outputs": [
    {
     "name": "stdout",
     "output_type": "stream",
     "text": [
      "Hello world\n"
     ]
    }
   ],
   "source": [
    "# Q(1) Write a Python program to print \"Hello, World!y?\n",
    "print(\"Hello world\")"
   ]
  },
  {
   "cell_type": "code",
   "execution_count": 34,
   "id": "74042263-bb76-4210-9fee-3e4fdbf5ea28",
   "metadata": {},
   "outputs": [
    {
     "name": "stdin",
     "output_type": "stream",
     "text": [
      "Enter your name arti\n",
      "Enter your age 29\n"
     ]
    },
    {
     "name": "stdout",
     "output_type": "stream",
     "text": [
      "your name is  arti\n",
      "your age is  29\n"
     ]
    }
   ],
   "source": [
    "# Q(2) Write a Python program that displays your name and age?\n",
    "name = input(\"Enter your name\")\n",
    "age = int(input(\"Enter your age\"))\n",
    "print(\"your name is \", name)\n",
    "\n",
    "print(\"your age is \" ,age)"
   ]
  },
  {
   "cell_type": "code",
   "execution_count": 13,
   "id": "42b60f1d-7677-43d0-be0a-f86acb0df48f",
   "metadata": {},
   "outputs": [
    {
     "name": "stdout",
     "output_type": "stream",
     "text": [
      "\n",
      "Here is a list of the Python keywords.  Enter any keyword to get more help.\n",
      "\n",
      "False               class               from                or\n",
      "None                continue            global              pass\n",
      "True                def                 if                  raise\n",
      "and                 del                 import              return\n",
      "as                  elif                in                  try\n",
      "assert              else                is                  while\n",
      "async               except              lambda              with\n",
      "await               finally             nonlocal            yield\n",
      "break               for                 not                 \n",
      "\n"
     ]
    }
   ],
   "source": [
    "# Q(3) Write code to print all the pre-defined keywords in Python using the keyword library?\n",
    "help('keywords')"
   ]
  },
  {
   "cell_type": "code",
   "execution_count": 20,
   "id": "ac3efa5e-8332-4a79-baa8-d6cafa3a6820",
   "metadata": {},
   "outputs": [
    {
     "name": "stdout",
     "output_type": "stream",
     "text": [
      "The number is greater than 0.\n"
     ]
    }
   ],
   "source": [
    "#Q(4)Write a program that checks if a given word is a Python keyword?\n",
    "a = 100\n",
    "if a > 0:\n",
    " print(\"The number is greater than 0.\")"
   ]
  },
  {
   "cell_type": "code",
   "execution_count": 22,
   "id": "0587e508-12d9-45e0-9449-28bbfdbc3904",
   "metadata": {},
   "outputs": [
    {
     "name": "stdout",
     "output_type": "stream",
     "text": [
      "[1, 15, 20, 25, 'ajay']\n"
     ]
    }
   ],
   "source": [
    "#Q(5) Create a list and tuple in Python, and demonstrate how attempting to change an element works differently\n",
    "for each?\n",
    "l = [ 1,15,20,25,\"ajay\"]\n",
    "print(l)"
   ]
  },
  {
   "cell_type": "code",
   "execution_count": 25,
   "id": "81b84aff-f12e-48ca-86d6-0ac1a2462768",
   "metadata": {},
   "outputs": [],
   "source": [
    "l[1] = 30"
   ]
  },
  {
   "cell_type": "code",
   "execution_count": 26,
   "id": "32dc2605-29c3-4849-8da2-17d8113c43e1",
   "metadata": {},
   "outputs": [
    {
     "data": {
      "text/plain": [
       "[1, 30, 20, 25, 'ajay']"
      ]
     },
     "execution_count": 26,
     "metadata": {},
     "output_type": "execute_result"
    }
   ],
   "source": [
    "l"
   ]
  },
  {
   "cell_type": "code",
   "execution_count": 33,
   "id": "a94611e6-5a9b-4b71-9694-40d96290ba93",
   "metadata": {},
   "outputs": [
    {
     "name": "stdout",
     "output_type": "stream",
     "text": [
      "(5, 10, 20, 'ajay')\n"
     ]
    }
   ],
   "source": [
    "number_tuple = (5,10,20,\"ajay\")\n",
    "print(number_tuple )"
   ]
  },
  {
   "cell_type": "code",
   "execution_count": 36,
   "id": "a54deead-d64b-492a-91d1-7daa1cf43955",
   "metadata": {},
   "outputs": [
    {
     "ename": "TypeError",
     "evalue": "'tuple' object does not support item assignment",
     "output_type": "error",
     "traceback": [
      "\u001b[31m---------------------------------------------------------------------------\u001b[39m",
      "\u001b[31mTypeError\u001b[39m                                 Traceback (most recent call last)",
      "\u001b[36mCell\u001b[39m\u001b[36m \u001b[39m\u001b[32mIn[36]\u001b[39m\u001b[32m, line 1\u001b[39m\n\u001b[32m----> \u001b[39m\u001b[32m1\u001b[39m \u001b[43mnumber_tuple\u001b[49m\u001b[43m[\u001b[49m\u001b[32;43m3\u001b[39;49m\u001b[43m]\u001b[49m = \u001b[33m\"\u001b[39m\u001b[33marti\u001b[39m\u001b[33m\"\u001b[39m\n",
      "\u001b[31mTypeError\u001b[39m: 'tuple' object does not support item assignment"
     ]
    }
   ],
   "source": [
    "number_tuple[3] = \"arti\""
   ]
  },
  {
   "cell_type": "code",
   "execution_count": 1,
   "id": "c89b149c-145d-4ca4-b5a4-4dde25bb5668",
   "metadata": {},
   "outputs": [
    {
     "name": "stdout",
     "output_type": "stream",
     "text": [
      "Before function call:\n",
      "a = 5, b = [1, 2, 3]\n",
      "Inside function before change:\n",
      "x = 5, my_list = [1, 2, 3]\n",
      "Inside function after change:\n",
      "x = 15, my_list = [1, 2, 3, 100]\n",
      "After function call:\n",
      "a = 5, b = [1, 2, 3, 100]\n"
     ]
    }
   ],
   "source": [
    "#Q(6.) Write a function to demonstrate the behavior of mutable and immutable arguments?\n",
    "def demo_mutable_immutable(x, my_list):\n",
    "    print(\"Inside function before change:\")\n",
    "    print(f\"x = {x}, my_list = {my_list}\")\n",
    "    \n",
    "    # Try modifying immutable (int)\n",
    "    x = x + 10  \n",
    "    \n",
    "    # Try modifying mutable (list)\n",
    "    my_list.append(100)\n",
    "    \n",
    "    print(\"Inside function after change:\")\n",
    "    print(f\"x = {x}, my_list = {my_list}\")\n",
    "\n",
    "\n",
    "# Immutable example (integer)\n",
    "a = 5\n",
    "# Mutable example (list)\n",
    "b = [1, 2, 3]\n",
    "\n",
    "print(\"Before function call:\")\n",
    "print(f\"a = {a}, b = {b}\")\n",
    "\n",
    "demo_mutable_immutable(a, b)\n",
    "\n",
    "print(\"After function call:\")\n",
    "print(f\"a = {a}, b = {b}\")\n"
   ]
  },
  {
   "cell_type": "code",
   "execution_count": 5,
   "id": "cd49ace6-4f16-45d9-aba8-8fd49a4454fe",
   "metadata": {},
   "outputs": [
    {
     "name": "stdin",
     "output_type": "stream",
     "text": [
      "enter your number 2\n",
      "enter ur number 3\n"
     ]
    },
    {
     "name": "stdout",
     "output_type": "stream",
     "text": [
      "5\n",
      "-1\n",
      "6\n",
      "0.6666666666666666\n",
      "2\n",
      "8\n"
     ]
    }
   ],
   "source": [
    "#Q(7.) Write a program that performs basic arithmetic operations on two user-input numbers?\n",
    "num1 = int(input(\"enter your number\"))\n",
    "num2 =int(input(\"enter ur number\"))  \n",
    "print (num1 + num2)\n",
    "print(num1 - num2)\n",
    "print(num1 * num2)\n",
    "print(num1 / num2)\n",
    "print(num1 % num2)\n",
    "print(num1 ** num2)"
   ]
  },
  {
   "cell_type": "code",
   "execution_count": 25,
   "id": "8cb86735-8d28-4193-967a-34e8fc9450b1",
   "metadata": {},
   "outputs": [
    {
     "name": "stdout",
     "output_type": "stream",
     "text": [
      "one number is even number\n"
     ]
    }
   ],
   "source": [
    "#Q(8.) Write a program to demonstrate the use of logical operators?\n",
    "a = int(input(\"enter your number\"))\n",
    "b = int(input(\"enter your number\"))\n",
    "if(a % 2==0)   and (b % 2 ==0):\n",
    "    print(\"both numbers are even numbers\")\n",
    "elif(a % 2==0)   or (b % 2 ==0):\n",
    "    print(\"one number is even number\")"
   ]
  },
  {
   "cell_type": "code",
   "execution_count": 35,
   "id": "2f83ae20-31b7-4df2-b4ea-9d420a1a0d65",
   "metadata": {},
   "outputs": [
    {
     "data": {
      "text/plain": [
       "str"
      ]
     },
     "execution_count": 35,
     "metadata": {},
     "output_type": "execute_result"
    }
   ],
   "source": [
    "#Q(9.) Write a Python program to convert user input from string to integer, float, and boolean types?\n",
    "a = \"108\"\n",
    "type(a)"
   ]
  },
  {
   "cell_type": "code",
   "execution_count": 37,
   "id": "9dbb85f5-f8a7-43e2-9631-88eed7ac9259",
   "metadata": {},
   "outputs": [
    {
     "data": {
      "text/plain": [
       "108"
      ]
     },
     "execution_count": 37,
     "metadata": {},
     "output_type": "execute_result"
    }
   ],
   "source": [
    "int(a)"
   ]
  },
  {
   "cell_type": "code",
   "execution_count": 38,
   "id": "f2248290-7198-478f-ac8a-3398ab1e8170",
   "metadata": {},
   "outputs": [
    {
     "data": {
      "text/plain": [
       "108.0"
      ]
     },
     "execution_count": 38,
     "metadata": {},
     "output_type": "execute_result"
    }
   ],
   "source": [
    "float(a)"
   ]
  },
  {
   "cell_type": "code",
   "execution_count": 39,
   "id": "c785d5c8-ca47-4bd6-8bb4-a8a22502e7e5",
   "metadata": {},
   "outputs": [
    {
     "data": {
      "text/plain": [
       "True"
      ]
     },
     "execution_count": 39,
     "metadata": {},
     "output_type": "execute_result"
    }
   ],
   "source": [
    "bool(a)"
   ]
  },
  {
   "cell_type": "code",
   "execution_count": 58,
   "id": "c308b5cc-74e1-4c3d-a0f6-e6f4e06d8d29",
   "metadata": {},
   "outputs": [
    {
     "name": "stdout",
     "output_type": "stream",
     "text": [
      "1.0\n",
      "2.0\n",
      "3.14\n",
      "4.0\n"
     ]
    }
   ],
   "source": [
    "#Q(10.) Write code to demonstrate type casting with list elements?\n",
    "l = [\"1\", 2, 3.14, \"4\"]\n",
    "for item in l:\n",
    "    print(float(item))"
   ]
  },
  {
   "cell_type": "code",
   "execution_count": 5,
   "id": "f2b7df46-b007-4a2b-85a9-57b8fd41eea5",
   "metadata": {},
   "outputs": [
    {
     "name": "stdin",
     "output_type": "stream",
     "text": [
      "enter ur number 0\n"
     ]
    },
    {
     "name": "stdout",
     "output_type": "stream",
     "text": [
      "number is zero\n"
     ]
    }
   ],
   "source": [
    "#Q(11) Write a program that checks if a number is positive, negative, or zero.\n",
    "num = int(input(\"enter ur number\"))\n",
    "if num > 0:\n",
    "    print(\"The number is positive\")\n",
    "elif num < 0:\n",
    "    print(\"The number is negative\")\n",
    "else:\n",
    "    print(\"number is zero\")\n"
   ]
  },
  {
   "cell_type": "code",
   "execution_count": 6,
   "id": "22639872-676b-4e2d-9525-ce6fd8c5a56c",
   "metadata": {},
   "outputs": [
    {
     "name": "stdout",
     "output_type": "stream",
     "text": [
      "1\n",
      "2\n",
      "3\n",
      "4\n",
      "5\n",
      "6\n",
      "7\n",
      "8\n",
      "9\n",
      "10\n"
     ]
    }
   ],
   "source": [
    "#Q(12.) Write a for loop to print numbers from 1 to 10.\n",
    "for i in range(1 , 11):\n",
    "    print(i)"
   ]
  },
  {
   "cell_type": "code",
   "execution_count": 17,
   "id": "9a470f5c-12a4-475d-8a7e-2aec697ec0dd",
   "metadata": {},
   "outputs": [
    {
     "name": "stdout",
     "output_type": "stream",
     "text": [
      "The sum of all even numbers between 1 and 50 is: 2\n",
      "The sum of all even numbers between 1 and 50 is: 6\n",
      "The sum of all even numbers between 1 and 50 is: 12\n",
      "The sum of all even numbers between 1 and 50 is: 20\n",
      "The sum of all even numbers between 1 and 50 is: 30\n",
      "The sum of all even numbers between 1 and 50 is: 42\n",
      "The sum of all even numbers between 1 and 50 is: 56\n",
      "The sum of all even numbers between 1 and 50 is: 72\n",
      "The sum of all even numbers between 1 and 50 is: 90\n",
      "The sum of all even numbers between 1 and 50 is: 110\n",
      "The sum of all even numbers between 1 and 50 is: 132\n",
      "The sum of all even numbers between 1 and 50 is: 156\n",
      "The sum of all even numbers between 1 and 50 is: 182\n",
      "The sum of all even numbers between 1 and 50 is: 210\n",
      "The sum of all even numbers between 1 and 50 is: 240\n",
      "The sum of all even numbers between 1 and 50 is: 272\n",
      "The sum of all even numbers between 1 and 50 is: 306\n",
      "The sum of all even numbers between 1 and 50 is: 342\n",
      "The sum of all even numbers between 1 and 50 is: 380\n",
      "The sum of all even numbers between 1 and 50 is: 420\n",
      "The sum of all even numbers between 1 and 50 is: 462\n",
      "The sum of all even numbers between 1 and 50 is: 506\n",
      "The sum of all even numbers between 1 and 50 is: 552\n",
      "The sum of all even numbers between 1 and 50 is: 600\n",
      "The sum of all even numbers between 1 and 50 is: 650\n"
     ]
    }
   ],
   "source": [
    "#Q(13) Write a Python program to find the sum of all even numbers between 1 and 50.\n",
    "total = 0\n",
    "for num in range(1 ,51):\n",
    "    if num % 2 == 0:\n",
    "        total  += num\n",
    "        print(\"The sum of all even numbers between 1 and 50 is:\", total)"
   ]
  },
  {
   "cell_type": "code",
   "execution_count": 22,
   "id": "125bce42-7eca-4626-8ede-c27e97524ebd",
   "metadata": {},
   "outputs": [
    {
     "name": "stdin",
     "output_type": "stream",
     "text": [
      "enter a string: python\n"
     ]
    },
    {
     "name": "stdout",
     "output_type": "stream",
     "text": [
      "Reversed string:  nohtyp\n"
     ]
    }
   ],
   "source": [
    "#Q(14.) Write a program to reverse a string using a while loop.\n",
    "text = input(\"enter a string:\" )\n",
    "reversed_text = \" \"\n",
    "index = len(text) - 1\n",
    "while index >= 0:\n",
    "    reversed_text += text[index]\n",
    "    index -= 1\n",
    "print(\"Reversed string:\", reversed_text)"
   ]
  },
  {
   "cell_type": "code",
   "execution_count": 31,
   "id": "dfebb887-f989-4d29-877b-818e6770c3e6",
   "metadata": {},
   "outputs": [
    {
     "name": "stdin",
     "output_type": "stream",
     "text": [
      "enter ur number 5\n"
     ]
    },
    {
     "name": "stdout",
     "output_type": "stream",
     "text": [
      "120\n"
     ]
    }
   ],
   "source": [
    "#Q(15.) Write a Python program to calculate the factorial of a number provided by the user using a while loop.\n",
    "number = int(input(\"enter ur number\"))\n",
    "result = 1\n",
    "while number > 0:\n",
    "    result = result * number\n",
    "    number = number - 1\n",
    "print(result)\n",
    "    "
   ]
  },
  {
   "cell_type": "code",
   "execution_count": null,
   "id": "aae35858-29a9-472d-8ed1-375135bac0d2",
   "metadata": {},
   "outputs": [],
   "source": []
  }
 ],
 "metadata": {
  "kernelspec": {
   "display_name": "Python 3 (ipykernel)",
   "language": "python",
   "name": "python3"
  },
  "language_info": {
   "codemirror_mode": {
    "name": "ipython",
    "version": 3
   },
   "file_extension": ".py",
   "mimetype": "text/x-python",
   "name": "python",
   "nbconvert_exporter": "python",
   "pygments_lexer": "ipython3",
   "version": "3.13.7"
  }
 },
 "nbformat": 4,
 "nbformat_minor": 5
}
